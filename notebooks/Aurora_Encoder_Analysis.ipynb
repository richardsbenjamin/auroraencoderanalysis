{
  "nbformat": 4,
  "nbformat_minor": 0,
  "metadata": {
    "colab": {
      "provenance": []
    },
    "kernelspec": {
      "name": "python3",
      "display_name": "Python 3"
    },
    "language_info": {
      "name": "python"
    }
  },
  "cells": [
    {
      "cell_type": "code",
      "source": [
        "!pip install netcdf4 zarr dask-ml"
      ],
      "metadata": {
        "colab": {
          "base_uri": "https://localhost:8080/"
        },
        "id": "eagqtgbPOrxu",
        "outputId": "9ac4fecf-1072-4269-b583-3231408838c6"
      },
      "execution_count": 1,
      "outputs": [
        {
          "output_type": "stream",
          "name": "stdout",
          "text": [
            "Collecting netcdf4\n",
            "  Downloading netCDF4-1.7.2-cp312-cp312-manylinux_2_17_x86_64.manylinux2014_x86_64.whl.metadata (1.8 kB)\n",
            "Collecting zarr\n",
            "  Downloading zarr-3.1.3-py3-none-any.whl.metadata (10 kB)\n",
            "Collecting dask-ml\n",
            "  Downloading dask_ml-2025.1.0-py3-none-any.whl.metadata (6.0 kB)\n",
            "Collecting cftime (from netcdf4)\n",
            "  Downloading cftime-1.6.4.post1-cp312-cp312-manylinux_2_17_x86_64.manylinux2014_x86_64.whl.metadata (8.7 kB)\n",
            "Requirement already satisfied: certifi in /usr/local/lib/python3.12/dist-packages (from netcdf4) (2025.8.3)\n",
            "Requirement already satisfied: numpy in /usr/local/lib/python3.12/dist-packages (from netcdf4) (2.0.2)\n",
            "Collecting donfig>=0.8 (from zarr)\n",
            "  Downloading donfig-0.8.1.post1-py3-none-any.whl.metadata (5.0 kB)\n",
            "Collecting numcodecs>=0.14 (from numcodecs[crc32c]>=0.14->zarr)\n",
            "  Downloading numcodecs-0.16.3-cp312-cp312-manylinux_2_17_x86_64.manylinux2014_x86_64.whl.metadata (3.3 kB)\n",
            "Requirement already satisfied: packaging>=22.0 in /usr/local/lib/python3.12/dist-packages (from zarr) (25.0)\n",
            "Requirement already satisfied: typing-extensions>=4.9 in /usr/local/lib/python3.12/dist-packages (from zarr) (4.15.0)\n",
            "Collecting dask-glm>=0.2.0 (from dask-ml)\n",
            "  Downloading dask_glm-0.3.2-py2.py3-none-any.whl.metadata (1.5 kB)\n",
            "Requirement already satisfied: dask>=2025.1.0 in /usr/local/lib/python3.12/dist-packages (from dask[array,dataframe]>=2025.1.0->dask-ml) (2025.5.0)\n",
            "Requirement already satisfied: distributed>=2025.1.0 in /usr/local/lib/python3.12/dist-packages (from dask-ml) (2025.5.0)\n",
            "Requirement already satisfied: multipledispatch>=0.4.9 in /usr/local/lib/python3.12/dist-packages (from dask-ml) (1.0.0)\n",
            "Requirement already satisfied: numba>=0.51.0 in /usr/local/lib/python3.12/dist-packages (from dask-ml) (0.60.0)\n",
            "Requirement already satisfied: pandas>=2.0 in /usr/local/lib/python3.12/dist-packages (from dask-ml) (2.2.2)\n",
            "Requirement already satisfied: scikit-learn>=1.6.1 in /usr/local/lib/python3.12/dist-packages (from dask-ml) (1.6.1)\n",
            "Requirement already satisfied: scipy in /usr/local/lib/python3.12/dist-packages (from dask-ml) (1.16.2)\n",
            "Requirement already satisfied: click>=8.1 in /usr/local/lib/python3.12/dist-packages (from dask>=2025.1.0->dask[array,dataframe]>=2025.1.0->dask-ml) (8.2.1)\n",
            "Requirement already satisfied: cloudpickle>=3.0.0 in /usr/local/lib/python3.12/dist-packages (from dask>=2025.1.0->dask[array,dataframe]>=2025.1.0->dask-ml) (3.1.1)\n",
            "Requirement already satisfied: fsspec>=2021.09.0 in /usr/local/lib/python3.12/dist-packages (from dask>=2025.1.0->dask[array,dataframe]>=2025.1.0->dask-ml) (2025.3.0)\n",
            "Requirement already satisfied: partd>=1.4.0 in /usr/local/lib/python3.12/dist-packages (from dask>=2025.1.0->dask[array,dataframe]>=2025.1.0->dask-ml) (1.4.2)\n",
            "Requirement already satisfied: pyyaml>=5.3.1 in /usr/local/lib/python3.12/dist-packages (from dask>=2025.1.0->dask[array,dataframe]>=2025.1.0->dask-ml) (6.0.2)\n",
            "Requirement already satisfied: toolz>=0.10.0 in /usr/local/lib/python3.12/dist-packages (from dask>=2025.1.0->dask[array,dataframe]>=2025.1.0->dask-ml) (0.12.1)\n",
            "Collecting sparse>=0.7.0 (from dask-glm>=0.2.0->dask-ml)\n",
            "  Downloading sparse-0.17.0-py2.py3-none-any.whl.metadata (5.3 kB)\n",
            "Requirement already satisfied: pyarrow>=14.0.1 in /usr/local/lib/python3.12/dist-packages (from dask[array,dataframe]>=2025.1.0->dask-ml) (18.1.0)\n",
            "Requirement already satisfied: jinja2>=2.10.3 in /usr/local/lib/python3.12/dist-packages (from distributed>=2025.1.0->dask-ml) (3.1.6)\n",
            "Requirement already satisfied: locket>=1.0.0 in /usr/local/lib/python3.12/dist-packages (from distributed>=2025.1.0->dask-ml) (1.0.0)\n",
            "Requirement already satisfied: msgpack>=1.0.2 in /usr/local/lib/python3.12/dist-packages (from distributed>=2025.1.0->dask-ml) (1.1.1)\n",
            "Requirement already satisfied: psutil>=5.8.0 in /usr/local/lib/python3.12/dist-packages (from distributed>=2025.1.0->dask-ml) (5.9.5)\n",
            "Requirement already satisfied: sortedcontainers>=2.0.5 in /usr/local/lib/python3.12/dist-packages (from distributed>=2025.1.0->dask-ml) (2.4.0)\n",
            "Requirement already satisfied: tblib>=1.6.0 in /usr/local/lib/python3.12/dist-packages (from distributed>=2025.1.0->dask-ml) (3.1.0)\n",
            "Requirement already satisfied: tornado>=6.2.0 in /usr/local/lib/python3.12/dist-packages (from distributed>=2025.1.0->dask-ml) (6.4.2)\n",
            "Requirement already satisfied: urllib3>=1.26.5 in /usr/local/lib/python3.12/dist-packages (from distributed>=2025.1.0->dask-ml) (2.5.0)\n",
            "Requirement already satisfied: zict>=3.0.0 in /usr/local/lib/python3.12/dist-packages (from distributed>=2025.1.0->dask-ml) (3.0.0)\n",
            "Requirement already satisfied: llvmlite<0.44,>=0.43.0dev0 in /usr/local/lib/python3.12/dist-packages (from numba>=0.51.0->dask-ml) (0.43.0)\n",
            "Collecting crc32c>=2.7 (from numcodecs[crc32c]>=0.14->zarr)\n",
            "  Downloading crc32c-2.7.1-cp312-cp312-manylinux_2_5_x86_64.manylinux1_x86_64.manylinux_2_17_x86_64.manylinux2014_x86_64.whl.metadata (7.3 kB)\n",
            "Requirement already satisfied: python-dateutil>=2.8.2 in /usr/local/lib/python3.12/dist-packages (from pandas>=2.0->dask-ml) (2.9.0.post0)\n",
            "Requirement already satisfied: pytz>=2020.1 in /usr/local/lib/python3.12/dist-packages (from pandas>=2.0->dask-ml) (2025.2)\n",
            "Requirement already satisfied: tzdata>=2022.7 in /usr/local/lib/python3.12/dist-packages (from pandas>=2.0->dask-ml) (2025.2)\n",
            "Requirement already satisfied: joblib>=1.2.0 in /usr/local/lib/python3.12/dist-packages (from scikit-learn>=1.6.1->dask-ml) (1.5.2)\n",
            "Requirement already satisfied: threadpoolctl>=3.1.0 in /usr/local/lib/python3.12/dist-packages (from scikit-learn>=1.6.1->dask-ml) (3.6.0)\n",
            "Requirement already satisfied: MarkupSafe>=2.0 in /usr/local/lib/python3.12/dist-packages (from jinja2>=2.10.3->distributed>=2025.1.0->dask-ml) (3.0.2)\n",
            "Requirement already satisfied: six>=1.5 in /usr/local/lib/python3.12/dist-packages (from python-dateutil>=2.8.2->pandas>=2.0->dask-ml) (1.17.0)\n",
            "Downloading netCDF4-1.7.2-cp312-cp312-manylinux_2_17_x86_64.manylinux2014_x86_64.whl (9.3 MB)\n",
            "\u001b[2K   \u001b[90m━━━━━━━━━━━━━━━━━━━━━━━━━━━━━━━━━━━━━━━━\u001b[0m \u001b[32m9.3/9.3 MB\u001b[0m \u001b[31m38.4 MB/s\u001b[0m eta \u001b[36m0:00:00\u001b[0m\n",
            "\u001b[?25hDownloading zarr-3.1.3-py3-none-any.whl (276 kB)\n",
            "\u001b[2K   \u001b[90m━━━━━━━━━━━━━━━━━━━━━━━━━━━━━━━━━━━━━━━━\u001b[0m \u001b[32m276.4/276.4 kB\u001b[0m \u001b[31m12.8 MB/s\u001b[0m eta \u001b[36m0:00:00\u001b[0m\n",
            "\u001b[?25hDownloading dask_ml-2025.1.0-py3-none-any.whl (149 kB)\n",
            "\u001b[2K   \u001b[90m━━━━━━━━━━━━━━━━━━━━━━━━━━━━━━━━━━━━━━━━\u001b[0m \u001b[32m150.0/150.0 kB\u001b[0m \u001b[31m5.8 MB/s\u001b[0m eta \u001b[36m0:00:00\u001b[0m\n",
            "\u001b[?25hDownloading dask_glm-0.3.2-py2.py3-none-any.whl (13 kB)\n",
            "Downloading donfig-0.8.1.post1-py3-none-any.whl (21 kB)\n",
            "Downloading numcodecs-0.16.3-cp312-cp312-manylinux_2_17_x86_64.manylinux2014_x86_64.whl (8.8 MB)\n",
            "\u001b[2K   \u001b[90m━━━━━━━━━━━━━━━━━━━━━━━━━━━━━━━━━━━━━━━━\u001b[0m \u001b[32m8.8/8.8 MB\u001b[0m \u001b[31m53.6 MB/s\u001b[0m eta \u001b[36m0:00:00\u001b[0m\n",
            "\u001b[?25hDownloading cftime-1.6.4.post1-cp312-cp312-manylinux_2_17_x86_64.manylinux2014_x86_64.whl (1.4 MB)\n",
            "\u001b[2K   \u001b[90m━━━━━━━━━━━━━━━━━━━━━━━━━━━━━━━━━━━━━━━━\u001b[0m \u001b[32m1.4/1.4 MB\u001b[0m \u001b[31m35.3 MB/s\u001b[0m eta \u001b[36m0:00:00\u001b[0m\n",
            "\u001b[?25hDownloading crc32c-2.7.1-cp312-cp312-manylinux_2_5_x86_64.manylinux1_x86_64.manylinux_2_17_x86_64.manylinux2014_x86_64.whl (53 kB)\n",
            "\u001b[2K   \u001b[90m━━━━━━━━━━━━━━━━━━━━━━━━━━━━━━━━━━━━━━━━\u001b[0m \u001b[32m53.5/53.5 kB\u001b[0m \u001b[31m2.0 MB/s\u001b[0m eta \u001b[36m0:00:00\u001b[0m\n",
            "\u001b[?25hDownloading sparse-0.17.0-py2.py3-none-any.whl (259 kB)\n",
            "\u001b[2K   \u001b[90m━━━━━━━━━━━━━━━━━━━━━━━━━━━━━━━━━━━━━━━━\u001b[0m \u001b[32m259.4/259.4 kB\u001b[0m \u001b[31m9.5 MB/s\u001b[0m eta \u001b[36m0:00:00\u001b[0m\n",
            "\u001b[?25hInstalling collected packages: numcodecs, donfig, crc32c, cftime, sparse, netcdf4, zarr, dask-glm, dask-ml\n",
            "Successfully installed cftime-1.6.4.post1 crc32c-2.7.1 dask-glm-0.3.2 dask-ml-2025.1.0 donfig-0.8.1.post1 netcdf4-1.7.2 numcodecs-0.16.3 sparse-0.17.0 zarr-3.1.3\n"
          ]
        }
      ]
    },
    {
      "cell_type": "code",
      "execution_count": 2,
      "metadata": {
        "id": "I6oDIe3gNoRO"
      },
      "outputs": [],
      "source": [
        "import gcsfs\n",
        "\n",
        "\n",
        "from __future__ import annotations\n",
        "\n",
        "import pickle\n",
        "import shutil\n",
        "\n",
        "import numpy as np\n",
        "import xarray as xr\n",
        "import zipfile\n",
        "from pandas import to_datetime\n",
        "\n",
        "# TYPES\n",
        "from argparse import ArgumentParser\n",
        "from typing import Any, TYPE_CHECKING\n",
        "\n",
        "from numpy import ndarray\n",
        "from xarray import DataArray, Dataset"
      ]
    },
    {
      "cell_type": "markdown",
      "source": [
        "## Functions"
      ],
      "metadata": {
        "id": "H_vH23N7UvIE"
      }
    },
    {
      "cell_type": "code",
      "source": [
        "def subset_region(\n",
        "        ds: xr.Dataset,\n",
        "        lon_min: float,\n",
        "        lon_max: float,\n",
        "        lat_min: float,\n",
        "        lat_max: float,\n",
        "    ) -> xr.Dataset:\n",
        "    lat_slice = slice(max(lat_min, lat_max), min(lat_min, lat_max))\n",
        "\n",
        "    if lon_min <= lon_max:\n",
        "        return ds.sel({\"lon\": slice(lon_min, lon_max),\n",
        "                       \"lat\": lat_slice})\n",
        "    else:\n",
        "        part1 = ds.sel({\"lon\": slice(lon_min, 360),\n",
        "                        \"lat\": lat_slice})\n",
        "        part2 = ds.sel({\"lon\": slice(0, lon_max),\n",
        "                        \"lat\": lat_slice})\n",
        "        return xr.concat([part1, part2], dim=\"lon\")\n",
        "\n",
        "def get_num_time_steps(ds: xr.Dataset, mb: int = 500) -> int:\n",
        "    time_dime = \"time\"\n",
        "\n",
        "    # Calculate number of elements for given MB size\n",
        "    BYTES_PER_MB = 1024**2\n",
        "    target_bytes = mb * BYTES_PER_MB\n",
        "    itemsize = ds.dtype.itemsize\n",
        "    chunk_elems = target_bytes // itemsize\n",
        "\n",
        "    # Calculate required number of time steps for (roughly) MB size\n",
        "    one_step_size = 1\n",
        "    for coord, size in ds.coords.sizes.items():\n",
        "        if (\n",
        "            coord != time_dime\n",
        "            and coord in ds.dims\n",
        "        ):\n",
        "            one_step_size *= size\n",
        "\n",
        "    return round(chunk_elems / one_step_size)\n",
        "\n",
        "def get_optimal_chunks_ds(ds: xr.Dataset) -> xr.Dataset:\n",
        "    chunk_time_steps = get_num_time_steps(ds)\n",
        "\n",
        "    chunk_dict = {\n",
        "        coord: chunk_time_steps if coord == \"time\" else -1\n",
        "        for coord in ds.dims\n",
        "    }\n",
        "    return ds.chunk(chunk_dict)\n",
        "\n",
        "\n",
        "def reduce_mask(land_sea_mask: ndarray, patch_size: int) -> ndarray:\n",
        "    n_lat_patches = land_sea_mask.shape[0] // patch_size\n",
        "    n_lon_patches = land_sea_mask.shape[1] // patch_size\n",
        "    land_sea_mask_patched = np.zeros((n_lat_patches, n_lon_patches), dtype=np.int8)\n",
        "    for i in range(n_lat_patches):\n",
        "        for j in range(n_lon_patches):\n",
        "            lat_slice = slice(i * patch_size, (i+1) * patch_size)\n",
        "            lon_slice = slice(j * patch_size, (j+1) * patch_size)\n",
        "            patch_data = land_sea_mask[lat_slice, lon_slice]\n",
        "\n",
        "            mean_val = np.mean(patch_data)\n",
        "            if mean_val >= 0.5:\n",
        "                land_sea_mask_patched[i, j] = 1\n",
        "            else:\n",
        "                land_sea_mask_patched[i, j] = 0\n",
        "\n",
        "    return land_sea_mask_patched\n",
        "\n",
        "def reduce_mask_lazy(mask: xr.DataArray, patch_size: int) -> DataArray:\n",
        "    coarsened = mask.coarsen(latitude=patch_size, longitude=patch_size, boundary='trim')\n",
        "    reduced = (coarsened.mean() >= 0.5).astype(np.int8)\n",
        "    return reduced\n"
      ],
      "metadata": {
        "id": "7KDtLaX3T1og"
      },
      "execution_count": 3,
      "outputs": []
    },
    {
      "cell_type": "markdown",
      "source": [
        "# Analysis"
      ],
      "metadata": {
        "id": "vOmgCuDAUxPr"
      }
    },
    {
      "cell_type": "code",
      "source": [
        "# Read data from Google bucket\n",
        "fs = gcsfs.GCSFileSystem(token='anon')\n",
        "complete_dataset = 'gs://aurora-encoder-storage/encoder_embeddings_20240713_20241821.zarr'\n",
        "store = fs.get_mapper(complete_dataset)\n",
        "aurora_embeddings = xr.open_zarr(store, consolidated=True)\n",
        "\n",
        "# Static data\n",
        "store = fs.get_mapper('gs://aurora-encoder-storage/static.zarr')\n",
        "static_data = xr.open_zarr(store, consolidated=True)"
      ],
      "metadata": {
        "id": "6-tWlESzOYAu"
      },
      "execution_count": 4,
      "outputs": []
    },
    {
      "cell_type": "code",
      "source": [
        "# Select surface and atmos embeddings\n",
        "chunk_bytes = 500\n",
        "\n",
        "surface_embeddings = get_optimal_chunks_ds(aurora_embeddings[\"surface_latent\"])\n",
        "atmos_embeddings = get_optimal_chunks_ds(aurora_embeddings[\"atmos_latent\"])"
      ],
      "metadata": {
        "id": "qhLC6jePOX51"
      },
      "execution_count": 5,
      "outputs": []
    },
    {
      "cell_type": "code",
      "source": [
        "# Other global variables\n",
        "patch_size = 4"
      ],
      "metadata": {
        "id": "6c9QIsc6bxNy"
      },
      "execution_count": 6,
      "outputs": []
    },
    {
      "cell_type": "code",
      "source": [],
      "metadata": {
        "id": "DpmFI6TlzT8M"
      },
      "execution_count": null,
      "outputs": []
    },
    {
      "cell_type": "code",
      "source": [
        "# Europe\n",
        "lon_min, lon_max = 335, 45\n",
        "lat_min, lat_max = 34, 72\n",
        "\n",
        "surface_embed_europe = subset_region(surface_embeddings, lon_min=335, lon_max=45, lat_min=34, lat_max=72)\n"
      ],
      "metadata": {
        "id": "MF84Frp1Ss1m"
      },
      "execution_count": 7,
      "outputs": []
    },
    {
      "cell_type": "code",
      "source": [],
      "metadata": {
        "id": "aS5yoeVNSsxQ"
      },
      "execution_count": null,
      "outputs": []
    },
    {
      "cell_type": "code",
      "source": [],
      "metadata": {
        "id": "yvkI8S8YXF12"
      },
      "execution_count": null,
      "outputs": []
    },
    {
      "cell_type": "code",
      "source": [],
      "metadata": {
        "id": "Nha1ir7OXFyR"
      },
      "execution_count": null,
      "outputs": []
    },
    {
      "cell_type": "markdown",
      "source": [
        "## Land-Sea Logistic Regression"
      ],
      "metadata": {
        "id": "lS6gzr_XFCsw"
      }
    },
    {
      "cell_type": "markdown",
      "source": [
        "Couple of things to understand.\n",
        "\n",
        "In the below, there are 50 time steps, meaning there are 50 **latent vectors** or embeddings.\n",
        "\n",
        "Each latent vector is of size (512, 180, 360). The embedded dimension is 512 and the reduced latitude and longitude dimensions are 180 and 360. In the context of our work here, we refer to a single latitude/longitude point as a **patch**.\n",
        "\n",
        "Also, notice that the array size if 12.36 GB but the **chunk size** is 506.25MiB.\n",
        "\n",
        "Chunking with xarray is very important, it allows us to handle large data size without loading the whole thing into memory. Instead, when we perform operations, we load chunks individually, one after the other, and perform and keep track of the operation. All of this is handled in the background by xarray."
      ],
      "metadata": {
        "id": "mdo9VP7eJLwW"
      }
    },
    {
      "cell_type": "code",
      "source": [
        "surface_embeddings"
      ],
      "metadata": {
        "colab": {
          "base_uri": "https://localhost:8080/",
          "height": 445
        },
        "id": "lpQ9pgtiJEB-",
        "outputId": "11dddf86-785f-4f0c-a3a4-793d4ed0ed02"
      },
      "execution_count": 8,
      "outputs": [
        {
          "output_type": "execute_result",
          "data": {
            "text/plain": [
              "<xarray.DataArray 'surface_latent' (time: 154, embed: 512, lat: 180, lon: 360)> Size: 41GB\n",
              "dask.array<rechunk-merge, shape=(154, 512, 180, 360), dtype=float64, chunksize=(2, 512, 180, 360), chunktype=numpy.ndarray>\n",
              "Coordinates:\n",
              "  * embed    (embed) int64 4kB 0 1 2 3 4 5 6 7 ... 505 506 507 508 509 510 511\n",
              "  * time     (time) datetime64[ns] 1kB 2024-07-13T18:00:00 ... 2027-01-17T18:...\n",
              "  * lat      (lat) float64 1kB 89.62 88.62 87.62 86.62 ... -87.38 -88.38 -89.38\n",
              "  * lon      (lon) float64 3kB 0.375 1.375 2.375 3.375 ... 357.4 358.4 359.4"
            ],
            "text/html": [
              "<div><svg style=\"position: absolute; width: 0; height: 0; overflow: hidden\">\n",
              "<defs>\n",
              "<symbol id=\"icon-database\" viewBox=\"0 0 32 32\">\n",
              "<path d=\"M16 0c-8.837 0-16 2.239-16 5v4c0 2.761 7.163 5 16 5s16-2.239 16-5v-4c0-2.761-7.163-5-16-5z\"></path>\n",
              "<path d=\"M16 17c-8.837 0-16-2.239-16-5v6c0 2.761 7.163 5 16 5s16-2.239 16-5v-6c0 2.761-7.163 5-16 5z\"></path>\n",
              "<path d=\"M16 26c-8.837 0-16-2.239-16-5v6c0 2.761 7.163 5 16 5s16-2.239 16-5v-6c0 2.761-7.163 5-16 5z\"></path>\n",
              "</symbol>\n",
              "<symbol id=\"icon-file-text2\" viewBox=\"0 0 32 32\">\n",
              "<path d=\"M28.681 7.159c-0.694-0.947-1.662-2.053-2.724-3.116s-2.169-2.030-3.116-2.724c-1.612-1.182-2.393-1.319-2.841-1.319h-15.5c-1.378 0-2.5 1.121-2.5 2.5v27c0 1.378 1.122 2.5 2.5 2.5h23c1.378 0 2.5-1.122 2.5-2.5v-19.5c0-0.448-0.137-1.23-1.319-2.841zM24.543 5.457c0.959 0.959 1.712 1.825 2.268 2.543h-4.811v-4.811c0.718 0.556 1.584 1.309 2.543 2.268zM28 29.5c0 0.271-0.229 0.5-0.5 0.5h-23c-0.271 0-0.5-0.229-0.5-0.5v-27c0-0.271 0.229-0.5 0.5-0.5 0 0 15.499-0 15.5 0v7c0 0.552 0.448 1 1 1h7v19.5z\"></path>\n",
              "<path d=\"M23 26h-14c-0.552 0-1-0.448-1-1s0.448-1 1-1h14c0.552 0 1 0.448 1 1s-0.448 1-1 1z\"></path>\n",
              "<path d=\"M23 22h-14c-0.552 0-1-0.448-1-1s0.448-1 1-1h14c0.552 0 1 0.448 1 1s-0.448 1-1 1z\"></path>\n",
              "<path d=\"M23 18h-14c-0.552 0-1-0.448-1-1s0.448-1 1-1h14c0.552 0 1 0.448 1 1s-0.448 1-1 1z\"></path>\n",
              "</symbol>\n",
              "</defs>\n",
              "</svg>\n",
              "<style>/* CSS stylesheet for displaying xarray objects in jupyterlab.\n",
              " *\n",
              " */\n",
              "\n",
              ":root {\n",
              "  --xr-font-color0: var(\n",
              "    --jp-content-font-color0,\n",
              "    var(--pst-color-text-base rgba(0, 0, 0, 1))\n",
              "  );\n",
              "  --xr-font-color2: var(\n",
              "    --jp-content-font-color2,\n",
              "    var(--pst-color-text-base, rgba(0, 0, 0, 0.54))\n",
              "  );\n",
              "  --xr-font-color3: var(\n",
              "    --jp-content-font-color3,\n",
              "    var(--pst-color-text-base, rgba(0, 0, 0, 0.38))\n",
              "  );\n",
              "  --xr-border-color: var(\n",
              "    --jp-border-color2,\n",
              "    hsl(from var(--pst-color-on-background, white) h s calc(l - 10))\n",
              "  );\n",
              "  --xr-disabled-color: var(\n",
              "    --jp-layout-color3,\n",
              "    hsl(from var(--pst-color-on-background, white) h s calc(l - 40))\n",
              "  );\n",
              "  --xr-background-color: var(\n",
              "    --jp-layout-color0,\n",
              "    var(--pst-color-on-background, white)\n",
              "  );\n",
              "  --xr-background-color-row-even: var(\n",
              "    --jp-layout-color1,\n",
              "    hsl(from var(--pst-color-on-background, white) h s calc(l - 5))\n",
              "  );\n",
              "  --xr-background-color-row-odd: var(\n",
              "    --jp-layout-color2,\n",
              "    hsl(from var(--pst-color-on-background, white) h s calc(l - 15))\n",
              "  );\n",
              "}\n",
              "\n",
              "html[theme=\"dark\"],\n",
              "html[data-theme=\"dark\"],\n",
              "body[data-theme=\"dark\"],\n",
              "body.vscode-dark {\n",
              "  --xr-font-color0: var(\n",
              "    --jp-content-font-color0,\n",
              "    var(--pst-color-text-base, rgba(255, 255, 255, 1))\n",
              "  );\n",
              "  --xr-font-color2: var(\n",
              "    --jp-content-font-color2,\n",
              "    var(--pst-color-text-base, rgba(255, 255, 255, 0.54))\n",
              "  );\n",
              "  --xr-font-color3: var(\n",
              "    --jp-content-font-color3,\n",
              "    var(--pst-color-text-base, rgba(255, 255, 255, 0.38))\n",
              "  );\n",
              "  --xr-border-color: var(\n",
              "    --jp-border-color2,\n",
              "    hsl(from var(--pst-color-on-background, #111111) h s calc(l + 10))\n",
              "  );\n",
              "  --xr-disabled-color: var(\n",
              "    --jp-layout-color3,\n",
              "    hsl(from var(--pst-color-on-background, #111111) h s calc(l + 40))\n",
              "  );\n",
              "  --xr-background-color: var(\n",
              "    --jp-layout-color0,\n",
              "    var(--pst-color-on-background, #111111)\n",
              "  );\n",
              "  --xr-background-color-row-even: var(\n",
              "    --jp-layout-color1,\n",
              "    hsl(from var(--pst-color-on-background, #111111) h s calc(l + 5))\n",
              "  );\n",
              "  --xr-background-color-row-odd: var(\n",
              "    --jp-layout-color2,\n",
              "    hsl(from var(--pst-color-on-background, #111111) h s calc(l + 15))\n",
              "  );\n",
              "}\n",
              "\n",
              ".xr-wrap {\n",
              "  display: block !important;\n",
              "  min-width: 300px;\n",
              "  max-width: 700px;\n",
              "}\n",
              "\n",
              ".xr-text-repr-fallback {\n",
              "  /* fallback to plain text repr when CSS is not injected (untrusted notebook) */\n",
              "  display: none;\n",
              "}\n",
              "\n",
              ".xr-header {\n",
              "  padding-top: 6px;\n",
              "  padding-bottom: 6px;\n",
              "  margin-bottom: 4px;\n",
              "  border-bottom: solid 1px var(--xr-border-color);\n",
              "}\n",
              "\n",
              ".xr-header > div,\n",
              ".xr-header > ul {\n",
              "  display: inline;\n",
              "  margin-top: 0;\n",
              "  margin-bottom: 0;\n",
              "}\n",
              "\n",
              ".xr-obj-type,\n",
              ".xr-array-name {\n",
              "  margin-left: 2px;\n",
              "  margin-right: 10px;\n",
              "}\n",
              "\n",
              ".xr-obj-type {\n",
              "  color: var(--xr-font-color2);\n",
              "}\n",
              "\n",
              ".xr-sections {\n",
              "  padding-left: 0 !important;\n",
              "  display: grid;\n",
              "  grid-template-columns: 150px auto auto 1fr 0 20px 0 20px;\n",
              "}\n",
              "\n",
              ".xr-section-item {\n",
              "  display: contents;\n",
              "}\n",
              "\n",
              ".xr-section-item input {\n",
              "  display: inline-block;\n",
              "  opacity: 0;\n",
              "  height: 0;\n",
              "}\n",
              "\n",
              ".xr-section-item input + label {\n",
              "  color: var(--xr-disabled-color);\n",
              "  border: 2px solid transparent !important;\n",
              "}\n",
              "\n",
              ".xr-section-item input:enabled + label {\n",
              "  cursor: pointer;\n",
              "  color: var(--xr-font-color2);\n",
              "}\n",
              "\n",
              ".xr-section-item input:focus + label {\n",
              "  border: 2px solid var(--xr-font-color0) !important;\n",
              "}\n",
              "\n",
              ".xr-section-item input:enabled + label:hover {\n",
              "  color: var(--xr-font-color0);\n",
              "}\n",
              "\n",
              ".xr-section-summary {\n",
              "  grid-column: 1;\n",
              "  color: var(--xr-font-color2);\n",
              "  font-weight: 500;\n",
              "}\n",
              "\n",
              ".xr-section-summary > span {\n",
              "  display: inline-block;\n",
              "  padding-left: 0.5em;\n",
              "}\n",
              "\n",
              ".xr-section-summary-in:disabled + label {\n",
              "  color: var(--xr-font-color2);\n",
              "}\n",
              "\n",
              ".xr-section-summary-in + label:before {\n",
              "  display: inline-block;\n",
              "  content: \"►\";\n",
              "  font-size: 11px;\n",
              "  width: 15px;\n",
              "  text-align: center;\n",
              "}\n",
              "\n",
              ".xr-section-summary-in:disabled + label:before {\n",
              "  color: var(--xr-disabled-color);\n",
              "}\n",
              "\n",
              ".xr-section-summary-in:checked + label:before {\n",
              "  content: \"▼\";\n",
              "}\n",
              "\n",
              ".xr-section-summary-in:checked + label > span {\n",
              "  display: none;\n",
              "}\n",
              "\n",
              ".xr-section-summary,\n",
              ".xr-section-inline-details {\n",
              "  padding-top: 4px;\n",
              "  padding-bottom: 4px;\n",
              "}\n",
              "\n",
              ".xr-section-inline-details {\n",
              "  grid-column: 2 / -1;\n",
              "}\n",
              "\n",
              ".xr-section-details {\n",
              "  display: none;\n",
              "  grid-column: 1 / -1;\n",
              "  margin-bottom: 5px;\n",
              "}\n",
              "\n",
              ".xr-section-summary-in:checked ~ .xr-section-details {\n",
              "  display: contents;\n",
              "}\n",
              "\n",
              ".xr-array-wrap {\n",
              "  grid-column: 1 / -1;\n",
              "  display: grid;\n",
              "  grid-template-columns: 20px auto;\n",
              "}\n",
              "\n",
              ".xr-array-wrap > label {\n",
              "  grid-column: 1;\n",
              "  vertical-align: top;\n",
              "}\n",
              "\n",
              ".xr-preview {\n",
              "  color: var(--xr-font-color3);\n",
              "}\n",
              "\n",
              ".xr-array-preview,\n",
              ".xr-array-data {\n",
              "  padding: 0 5px !important;\n",
              "  grid-column: 2;\n",
              "}\n",
              "\n",
              ".xr-array-data,\n",
              ".xr-array-in:checked ~ .xr-array-preview {\n",
              "  display: none;\n",
              "}\n",
              "\n",
              ".xr-array-in:checked ~ .xr-array-data,\n",
              ".xr-array-preview {\n",
              "  display: inline-block;\n",
              "}\n",
              "\n",
              ".xr-dim-list {\n",
              "  display: inline-block !important;\n",
              "  list-style: none;\n",
              "  padding: 0 !important;\n",
              "  margin: 0;\n",
              "}\n",
              "\n",
              ".xr-dim-list li {\n",
              "  display: inline-block;\n",
              "  padding: 0;\n",
              "  margin: 0;\n",
              "}\n",
              "\n",
              ".xr-dim-list:before {\n",
              "  content: \"(\";\n",
              "}\n",
              "\n",
              ".xr-dim-list:after {\n",
              "  content: \")\";\n",
              "}\n",
              "\n",
              ".xr-dim-list li:not(:last-child):after {\n",
              "  content: \",\";\n",
              "  padding-right: 5px;\n",
              "}\n",
              "\n",
              ".xr-has-index {\n",
              "  font-weight: bold;\n",
              "}\n",
              "\n",
              ".xr-var-list,\n",
              ".xr-var-item {\n",
              "  display: contents;\n",
              "}\n",
              "\n",
              ".xr-var-item > div,\n",
              ".xr-var-item label,\n",
              ".xr-var-item > .xr-var-name span {\n",
              "  background-color: var(--xr-background-color-row-even);\n",
              "  border-color: var(--xr-background-color-row-odd);\n",
              "  margin-bottom: 0;\n",
              "  padding-top: 2px;\n",
              "}\n",
              "\n",
              ".xr-var-item > .xr-var-name:hover span {\n",
              "  padding-right: 5px;\n",
              "}\n",
              "\n",
              ".xr-var-list > li:nth-child(odd) > div,\n",
              ".xr-var-list > li:nth-child(odd) > label,\n",
              ".xr-var-list > li:nth-child(odd) > .xr-var-name span {\n",
              "  background-color: var(--xr-background-color-row-odd);\n",
              "  border-color: var(--xr-background-color-row-even);\n",
              "}\n",
              "\n",
              ".xr-var-name {\n",
              "  grid-column: 1;\n",
              "}\n",
              "\n",
              ".xr-var-dims {\n",
              "  grid-column: 2;\n",
              "}\n",
              "\n",
              ".xr-var-dtype {\n",
              "  grid-column: 3;\n",
              "  text-align: right;\n",
              "  color: var(--xr-font-color2);\n",
              "}\n",
              "\n",
              ".xr-var-preview {\n",
              "  grid-column: 4;\n",
              "}\n",
              "\n",
              ".xr-index-preview {\n",
              "  grid-column: 2 / 5;\n",
              "  color: var(--xr-font-color2);\n",
              "}\n",
              "\n",
              ".xr-var-name,\n",
              ".xr-var-dims,\n",
              ".xr-var-dtype,\n",
              ".xr-preview,\n",
              ".xr-attrs dt {\n",
              "  white-space: nowrap;\n",
              "  overflow: hidden;\n",
              "  text-overflow: ellipsis;\n",
              "  padding-right: 10px;\n",
              "}\n",
              "\n",
              ".xr-var-name:hover,\n",
              ".xr-var-dims:hover,\n",
              ".xr-var-dtype:hover,\n",
              ".xr-attrs dt:hover {\n",
              "  overflow: visible;\n",
              "  width: auto;\n",
              "  z-index: 1;\n",
              "}\n",
              "\n",
              ".xr-var-attrs,\n",
              ".xr-var-data,\n",
              ".xr-index-data {\n",
              "  display: none;\n",
              "  border-top: 2px dotted var(--xr-background-color);\n",
              "  padding-bottom: 20px !important;\n",
              "  padding-top: 10px !important;\n",
              "}\n",
              "\n",
              ".xr-var-attrs-in + label,\n",
              ".xr-var-data-in + label,\n",
              ".xr-index-data-in + label {\n",
              "  padding: 0 1px;\n",
              "}\n",
              "\n",
              ".xr-var-attrs-in:checked ~ .xr-var-attrs,\n",
              ".xr-var-data-in:checked ~ .xr-var-data,\n",
              ".xr-index-data-in:checked ~ .xr-index-data {\n",
              "  display: block;\n",
              "}\n",
              "\n",
              ".xr-var-data > table {\n",
              "  float: right;\n",
              "}\n",
              "\n",
              ".xr-var-data > pre,\n",
              ".xr-index-data > pre,\n",
              ".xr-var-data > table > tbody > tr {\n",
              "  background-color: transparent !important;\n",
              "}\n",
              "\n",
              ".xr-var-name span,\n",
              ".xr-var-data,\n",
              ".xr-index-name div,\n",
              ".xr-index-data,\n",
              ".xr-attrs {\n",
              "  padding-left: 25px !important;\n",
              "}\n",
              "\n",
              ".xr-attrs,\n",
              ".xr-var-attrs,\n",
              ".xr-var-data,\n",
              ".xr-index-data {\n",
              "  grid-column: 1 / -1;\n",
              "}\n",
              "\n",
              "dl.xr-attrs {\n",
              "  padding: 0;\n",
              "  margin: 0;\n",
              "  display: grid;\n",
              "  grid-template-columns: 125px auto;\n",
              "}\n",
              "\n",
              ".xr-attrs dt,\n",
              ".xr-attrs dd {\n",
              "  padding: 0;\n",
              "  margin: 0;\n",
              "  float: left;\n",
              "  padding-right: 10px;\n",
              "  width: auto;\n",
              "}\n",
              "\n",
              ".xr-attrs dt {\n",
              "  font-weight: normal;\n",
              "  grid-column: 1;\n",
              "}\n",
              "\n",
              ".xr-attrs dt:hover span {\n",
              "  display: inline-block;\n",
              "  background: var(--xr-background-color);\n",
              "  padding-right: 10px;\n",
              "}\n",
              "\n",
              ".xr-attrs dd {\n",
              "  grid-column: 2;\n",
              "  white-space: pre-wrap;\n",
              "  word-break: break-all;\n",
              "}\n",
              "\n",
              ".xr-icon-database,\n",
              ".xr-icon-file-text2,\n",
              ".xr-no-icon {\n",
              "  display: inline-block;\n",
              "  vertical-align: middle;\n",
              "  width: 1em;\n",
              "  height: 1.5em !important;\n",
              "  stroke-width: 0;\n",
              "  stroke: currentColor;\n",
              "  fill: currentColor;\n",
              "}\n",
              "\n",
              ".xr-var-attrs-in:checked + label > .xr-icon-file-text2,\n",
              ".xr-var-data-in:checked + label > .xr-icon-database,\n",
              ".xr-index-data-in:checked + label > .xr-icon-database {\n",
              "  color: var(--xr-font-color0);\n",
              "  filter: drop-shadow(1px 1px 5px var(--xr-font-color2));\n",
              "  stroke-width: 0.8px;\n",
              "}\n",
              "</style><pre class='xr-text-repr-fallback'>&lt;xarray.DataArray &#x27;surface_latent&#x27; (time: 154, embed: 512, lat: 180, lon: 360)&gt; Size: 41GB\n",
              "dask.array&lt;rechunk-merge, shape=(154, 512, 180, 360), dtype=float64, chunksize=(2, 512, 180, 360), chunktype=numpy.ndarray&gt;\n",
              "Coordinates:\n",
              "  * embed    (embed) int64 4kB 0 1 2 3 4 5 6 7 ... 505 506 507 508 509 510 511\n",
              "  * time     (time) datetime64[ns] 1kB 2024-07-13T18:00:00 ... 2027-01-17T18:...\n",
              "  * lat      (lat) float64 1kB 89.62 88.62 87.62 86.62 ... -87.38 -88.38 -89.38\n",
              "  * lon      (lon) float64 3kB 0.375 1.375 2.375 3.375 ... 357.4 358.4 359.4</pre><div class='xr-wrap' style='display:none'><div class='xr-header'><div class='xr-obj-type'>xarray.DataArray</div><div class='xr-array-name'>'surface_latent'</div><ul class='xr-dim-list'><li><span class='xr-has-index'>time</span>: 154</li><li><span class='xr-has-index'>embed</span>: 512</li><li><span class='xr-has-index'>lat</span>: 180</li><li><span class='xr-has-index'>lon</span>: 360</li></ul></div><ul class='xr-sections'><li class='xr-section-item'><div class='xr-array-wrap'><input id='section-16a2f70a-d205-46d9-8bc3-4d52845f6b69' class='xr-array-in' type='checkbox' checked><label for='section-16a2f70a-d205-46d9-8bc3-4d52845f6b69' title='Show/hide data repr'><svg class='icon xr-icon-database'><use xlink:href='#icon-database'></use></svg></label><div class='xr-array-preview xr-preview'><span>dask.array&lt;chunksize=(2, 512, 180, 360), meta=np.ndarray&gt;</span></div><div class='xr-array-data'><table>\n",
              "    <tr>\n",
              "        <td>\n",
              "            <table style=\"border-collapse: collapse;\">\n",
              "                <thead>\n",
              "                    <tr>\n",
              "                        <td> </td>\n",
              "                        <th> Array </th>\n",
              "                        <th> Chunk </th>\n",
              "                    </tr>\n",
              "                </thead>\n",
              "                <tbody>\n",
              "                    \n",
              "                    <tr>\n",
              "                        <th> Bytes </th>\n",
              "                        <td> 38.07 GiB </td>\n",
              "                        <td> 506.25 MiB </td>\n",
              "                    </tr>\n",
              "                    \n",
              "                    <tr>\n",
              "                        <th> Shape </th>\n",
              "                        <td> (154, 512, 180, 360) </td>\n",
              "                        <td> (2, 512, 180, 360) </td>\n",
              "                    </tr>\n",
              "                    <tr>\n",
              "                        <th> Dask graph </th>\n",
              "                        <td colspan=\"2\"> 77 chunks in 3 graph layers </td>\n",
              "                    </tr>\n",
              "                    <tr>\n",
              "                        <th> Data type </th>\n",
              "                        <td colspan=\"2\"> float64 numpy.ndarray </td>\n",
              "                    </tr>\n",
              "                </tbody>\n",
              "            </table>\n",
              "        </td>\n",
              "        <td>\n",
              "        <svg width=\"430\" height=\"164\" style=\"stroke:rgb(0,0,0);stroke-width:1\" >\n",
              "\n",
              "  <!-- Horizontal lines -->\n",
              "  <line x1=\"0\" y1=\"0\" x2=\"43\" y2=\"0\" style=\"stroke-width:2\" />\n",
              "  <line x1=\"0\" y1=\"25\" x2=\"43\" y2=\"25\" style=\"stroke-width:2\" />\n",
              "\n",
              "  <!-- Vertical lines -->\n",
              "  <line x1=\"0\" y1=\"0\" x2=\"0\" y2=\"25\" style=\"stroke-width:2\" />\n",
              "  <line x1=\"1\" y1=\"0\" x2=\"1\" y2=\"25\" />\n",
              "  <line x1=\"2\" y1=\"0\" x2=\"2\" y2=\"25\" />\n",
              "  <line x1=\"3\" y1=\"0\" x2=\"3\" y2=\"25\" />\n",
              "  <line x1=\"5\" y1=\"0\" x2=\"5\" y2=\"25\" />\n",
              "  <line x1=\"6\" y1=\"0\" x2=\"6\" y2=\"25\" />\n",
              "  <line x1=\"7\" y1=\"0\" x2=\"7\" y2=\"25\" />\n",
              "  <line x1=\"9\" y1=\"0\" x2=\"9\" y2=\"25\" />\n",
              "  <line x1=\"10\" y1=\"0\" x2=\"10\" y2=\"25\" />\n",
              "  <line x1=\"11\" y1=\"0\" x2=\"11\" y2=\"25\" />\n",
              "  <line x1=\"13\" y1=\"0\" x2=\"13\" y2=\"25\" />\n",
              "  <line x1=\"14\" y1=\"0\" x2=\"14\" y2=\"25\" />\n",
              "  <line x1=\"15\" y1=\"0\" x2=\"15\" y2=\"25\" />\n",
              "  <line x1=\"17\" y1=\"0\" x2=\"17\" y2=\"25\" />\n",
              "  <line x1=\"18\" y1=\"0\" x2=\"18\" y2=\"25\" />\n",
              "  <line x1=\"20\" y1=\"0\" x2=\"20\" y2=\"25\" />\n",
              "  <line x1=\"21\" y1=\"0\" x2=\"21\" y2=\"25\" />\n",
              "  <line x1=\"22\" y1=\"0\" x2=\"22\" y2=\"25\" />\n",
              "  <line x1=\"24\" y1=\"0\" x2=\"24\" y2=\"25\" />\n",
              "  <line x1=\"25\" y1=\"0\" x2=\"25\" y2=\"25\" />\n",
              "  <line x1=\"27\" y1=\"0\" x2=\"27\" y2=\"25\" />\n",
              "  <line x1=\"28\" y1=\"0\" x2=\"28\" y2=\"25\" />\n",
              "  <line x1=\"29\" y1=\"0\" x2=\"29\" y2=\"25\" />\n",
              "  <line x1=\"31\" y1=\"0\" x2=\"31\" y2=\"25\" />\n",
              "  <line x1=\"32\" y1=\"0\" x2=\"32\" y2=\"25\" />\n",
              "  <line x1=\"33\" y1=\"0\" x2=\"33\" y2=\"25\" />\n",
              "  <line x1=\"35\" y1=\"0\" x2=\"35\" y2=\"25\" />\n",
              "  <line x1=\"36\" y1=\"0\" x2=\"36\" y2=\"25\" />\n",
              "  <line x1=\"37\" y1=\"0\" x2=\"37\" y2=\"25\" />\n",
              "  <line x1=\"39\" y1=\"0\" x2=\"39\" y2=\"25\" />\n",
              "  <line x1=\"40\" y1=\"0\" x2=\"40\" y2=\"25\" />\n",
              "  <line x1=\"41\" y1=\"0\" x2=\"41\" y2=\"25\" />\n",
              "  <line x1=\"43\" y1=\"0\" x2=\"43\" y2=\"25\" style=\"stroke-width:2\" />\n",
              "\n",
              "  <!-- Colored Rectangle -->\n",
              "  <polygon points=\"0.0,0.0 43.55351447352536,0.0 43.55351447352536,25.412616514582485 0.0,25.412616514582485\" style=\"fill:#8B4903A0;stroke-width:0\"/>\n",
              "\n",
              "  <!-- Text -->\n",
              "  <text x=\"21.776757\" y=\"45.412617\" font-size=\"1.0rem\" font-weight=\"100\" text-anchor=\"middle\" >154</text>\n",
              "  <text x=\"63.553514\" y=\"12.706308\" font-size=\"1.0rem\" font-weight=\"100\" text-anchor=\"middle\" transform=\"rotate(0,63.553514,12.706308)\">1</text>\n",
              "\n",
              "\n",
              "  <!-- Horizontal lines -->\n",
              "  <line x1=\"113\" y1=\"0\" x2=\"183\" y2=\"70\" style=\"stroke-width:2\" />\n",
              "  <line x1=\"113\" y1=\"44\" x2=\"183\" y2=\"114\" style=\"stroke-width:2\" />\n",
              "\n",
              "  <!-- Vertical lines -->\n",
              "  <line x1=\"113\" y1=\"0\" x2=\"113\" y2=\"44\" style=\"stroke-width:2\" />\n",
              "  <line x1=\"183\" y1=\"70\" x2=\"183\" y2=\"114\" style=\"stroke-width:2\" />\n",
              "\n",
              "  <!-- Colored Rectangle -->\n",
              "  <polygon points=\"113.0,0.0 183.58823529411765,70.58823529411765 183.58823529411765,114.63761976749521 113.0,44.04938447337756\" style=\"fill:#ECB172A0;stroke-width:0\"/>\n",
              "\n",
              "  <!-- Horizontal lines -->\n",
              "  <line x1=\"113\" y1=\"0\" x2=\"197\" y2=\"0\" style=\"stroke-width:2\" />\n",
              "  <line x1=\"183\" y1=\"70\" x2=\"267\" y2=\"70\" style=\"stroke-width:2\" />\n",
              "\n",
              "  <!-- Vertical lines -->\n",
              "  <line x1=\"113\" y1=\"0\" x2=\"183\" y2=\"70\" style=\"stroke-width:2\" />\n",
              "  <line x1=\"197\" y1=\"0\" x2=\"267\" y2=\"70\" style=\"stroke-width:2\" />\n",
              "\n",
              "  <!-- Colored Rectangle -->\n",
              "  <polygon points=\"113.0,0.0 197.375,0.0 267.9632352941177,70.58823529411765 183.58823529411765,70.58823529411765\" style=\"fill:#ECB172A0;stroke-width:0\"/>\n",
              "\n",
              "  <!-- Horizontal lines -->\n",
              "  <line x1=\"183\" y1=\"70\" x2=\"267\" y2=\"70\" style=\"stroke-width:2\" />\n",
              "  <line x1=\"183\" y1=\"114\" x2=\"267\" y2=\"114\" style=\"stroke-width:2\" />\n",
              "\n",
              "  <!-- Vertical lines -->\n",
              "  <line x1=\"183\" y1=\"70\" x2=\"183\" y2=\"114\" style=\"stroke-width:2\" />\n",
              "  <line x1=\"267\" y1=\"70\" x2=\"267\" y2=\"114\" style=\"stroke-width:2\" />\n",
              "\n",
              "  <!-- Colored Rectangle -->\n",
              "  <polygon points=\"183.58823529411765,70.58823529411765 267.9632352941177,70.58823529411765 267.9632352941177,114.63761976749521 183.58823529411765,114.63761976749521\" style=\"fill:#ECB172A0;stroke-width:0\"/>\n",
              "\n",
              "  <!-- Text -->\n",
              "  <text x=\"225.775735\" y=\"134.637620\" font-size=\"1.0rem\" font-weight=\"100\" text-anchor=\"middle\" >360</text>\n",
              "  <text x=\"287.963235\" y=\"92.612928\" font-size=\"1.0rem\" font-weight=\"100\" text-anchor=\"middle\" transform=\"rotate(-90,287.963235,92.612928)\">180</text>\n",
              "  <text x=\"138.294118\" y=\"99.343502\" font-size=\"1.0rem\" font-weight=\"100\" text-anchor=\"middle\" transform=\"rotate(45,138.294118,99.343502)\">512</text>\n",
              "</svg>\n",
              "        </td>\n",
              "    </tr>\n",
              "</table></div></div></li><li class='xr-section-item'><input id='section-6b9c7421-c168-4154-ad90-2fc49079d76f' class='xr-section-summary-in' type='checkbox'  checked><label for='section-6b9c7421-c168-4154-ad90-2fc49079d76f' class='xr-section-summary' >Coordinates: <span>(4)</span></label><div class='xr-section-inline-details'></div><div class='xr-section-details'><ul class='xr-var-list'><li class='xr-var-item'><div class='xr-var-name'><span class='xr-has-index'>embed</span></div><div class='xr-var-dims'>(embed)</div><div class='xr-var-dtype'>int64</div><div class='xr-var-preview xr-preview'>0 1 2 3 4 5 ... 507 508 509 510 511</div><input id='attrs-e37ae73a-a557-4dc8-a234-5e70c849da90' class='xr-var-attrs-in' type='checkbox' disabled><label for='attrs-e37ae73a-a557-4dc8-a234-5e70c849da90' title='Show/Hide attributes'><svg class='icon xr-icon-file-text2'><use xlink:href='#icon-file-text2'></use></svg></label><input id='data-e0bec9a9-aceb-40e0-8559-d465692504d6' class='xr-var-data-in' type='checkbox'><label for='data-e0bec9a9-aceb-40e0-8559-d465692504d6' title='Show/Hide data repr'><svg class='icon xr-icon-database'><use xlink:href='#icon-database'></use></svg></label><div class='xr-var-attrs'><dl class='xr-attrs'></dl></div><div class='xr-var-data'><pre>array([  0,   1,   2, ..., 509, 510, 511])</pre></div></li><li class='xr-var-item'><div class='xr-var-name'><span class='xr-has-index'>time</span></div><div class='xr-var-dims'>(time)</div><div class='xr-var-dtype'>datetime64[ns]</div><div class='xr-var-preview xr-preview'>2024-07-13T18:00:00 ... 2027-01-...</div><input id='attrs-2e7c4b9e-988c-4ea0-956f-b7953699cdb9' class='xr-var-attrs-in' type='checkbox' disabled><label for='attrs-2e7c4b9e-988c-4ea0-956f-b7953699cdb9' title='Show/Hide attributes'><svg class='icon xr-icon-file-text2'><use xlink:href='#icon-file-text2'></use></svg></label><input id='data-599dfcee-dc7a-4378-8ee3-f0332967fb99' class='xr-var-data-in' type='checkbox'><label for='data-599dfcee-dc7a-4378-8ee3-f0332967fb99' title='Show/Hide data repr'><svg class='icon xr-icon-database'><use xlink:href='#icon-database'></use></svg></label><div class='xr-var-attrs'><dl class='xr-attrs'></dl></div><div class='xr-var-data'><pre>array([&#x27;2024-07-13T18:00:00.000000000&#x27;, &#x27;2024-07-19T18:00:00.000000000&#x27;,\n",
              "       &#x27;2024-07-25T18:00:00.000000000&#x27;, &#x27;2024-07-31T18:00:00.000000000&#x27;,\n",
              "       &#x27;2024-07-14T18:00:00.000000000&#x27;, &#x27;2024-08-12T18:00:00.000000000&#x27;,\n",
              "       &#x27;2024-08-18T18:00:00.000000000&#x27;, &#x27;2024-08-24T18:00:00.000000000&#x27;,\n",
              "       &#x27;2024-07-15T18:00:00.000000000&#x27;, &#x27;2024-09-05T18:00:00.000000000&#x27;,\n",
              "       &#x27;2024-09-11T18:00:00.000000000&#x27;, &#x27;2024-09-17T18:00:00.000000000&#x27;,\n",
              "       &#x27;2024-07-16T18:00:00.000000000&#x27;, &#x27;2024-09-29T18:00:00.000000000&#x27;,\n",
              "       &#x27;2024-10-05T18:00:00.000000000&#x27;, &#x27;2024-10-11T18:00:00.000000000&#x27;,\n",
              "       &#x27;2024-07-17T18:00:00.000000000&#x27;, &#x27;2024-10-23T18:00:00.000000000&#x27;,\n",
              "       &#x27;2024-10-29T18:00:00.000000000&#x27;, &#x27;2024-11-04T18:00:00.000000000&#x27;,\n",
              "       &#x27;2024-07-18T18:00:00.000000000&#x27;, &#x27;2024-11-16T18:00:00.000000000&#x27;,\n",
              "       &#x27;2024-11-22T18:00:00.000000000&#x27;, &#x27;2024-11-28T18:00:00.000000000&#x27;,\n",
              "       &#x27;2024-07-19T18:00:00.000000000&#x27;, &#x27;2024-12-10T18:00:00.000000000&#x27;,\n",
              "       &#x27;2024-12-16T18:00:00.000000000&#x27;, &#x27;2024-12-22T18:00:00.000000000&#x27;,\n",
              "       &#x27;2024-07-20T18:00:00.000000000&#x27;, &#x27;2025-01-03T18:00:00.000000000&#x27;,\n",
              "       &#x27;2025-01-09T18:00:00.000000000&#x27;, &#x27;2025-01-15T18:00:00.000000000&#x27;,\n",
              "       &#x27;2024-07-21T18:00:00.000000000&#x27;, &#x27;2025-01-27T18:00:00.000000000&#x27;,\n",
              "       &#x27;2025-02-02T18:00:00.000000000&#x27;, &#x27;2025-02-08T18:00:00.000000000&#x27;,\n",
              "       &#x27;2024-07-22T18:00:00.000000000&#x27;, &#x27;2025-02-20T18:00:00.000000000&#x27;,\n",
              "       &#x27;2025-02-26T18:00:00.000000000&#x27;, &#x27;2025-03-04T18:00:00.000000000&#x27;,\n",
              "       &#x27;2024-07-23T18:00:00.000000000&#x27;, &#x27;2025-03-16T18:00:00.000000000&#x27;,\n",
              "       &#x27;2025-03-22T18:00:00.000000000&#x27;, &#x27;2025-03-28T18:00:00.000000000&#x27;,\n",
              "       &#x27;2024-07-24T18:00:00.000000000&#x27;, &#x27;2025-04-09T18:00:00.000000000&#x27;,\n",
              "       &#x27;2025-04-15T18:00:00.000000000&#x27;, &#x27;2025-04-21T18:00:00.000000000&#x27;,\n",
              "       &#x27;2024-07-25T18:00:00.000000000&#x27;, &#x27;2025-05-03T18:00:00.000000000&#x27;,\n",
              "       &#x27;2025-05-09T18:00:00.000000000&#x27;, &#x27;2025-05-15T18:00:00.000000000&#x27;,\n",
              "       &#x27;2024-07-26T18:00:00.000000000&#x27;, &#x27;2025-05-27T18:00:00.000000000&#x27;,\n",
              "       &#x27;2025-06-02T18:00:00.000000000&#x27;, &#x27;2025-06-08T18:00:00.000000000&#x27;,\n",
              "       &#x27;2024-07-27T18:00:00.000000000&#x27;, &#x27;2025-06-20T18:00:00.000000000&#x27;,\n",
              "       &#x27;2025-06-26T18:00:00.000000000&#x27;, &#x27;2025-07-02T18:00:00.000000000&#x27;,\n",
              "       &#x27;2024-07-28T18:00:00.000000000&#x27;, &#x27;2025-07-14T18:00:00.000000000&#x27;,\n",
              "       &#x27;2025-07-20T18:00:00.000000000&#x27;, &#x27;2025-07-26T18:00:00.000000000&#x27;,\n",
              "       &#x27;2024-07-29T18:00:00.000000000&#x27;, &#x27;2025-08-07T18:00:00.000000000&#x27;,\n",
              "       &#x27;2025-08-13T18:00:00.000000000&#x27;, &#x27;2025-08-19T18:00:00.000000000&#x27;,\n",
              "       &#x27;2024-07-30T18:00:00.000000000&#x27;, &#x27;2025-08-31T18:00:00.000000000&#x27;,\n",
              "       &#x27;2025-09-06T18:00:00.000000000&#x27;, &#x27;2025-09-12T18:00:00.000000000&#x27;,\n",
              "       &#x27;2024-07-31T18:00:00.000000000&#x27;, &#x27;2025-09-24T18:00:00.000000000&#x27;,\n",
              "       &#x27;2025-09-30T18:00:00.000000000&#x27;, &#x27;2025-10-06T18:00:00.000000000&#x27;,\n",
              "       &#x27;2024-08-01T18:00:00.000000000&#x27;, &#x27;2025-10-18T18:00:00.000000000&#x27;,\n",
              "       &#x27;2025-10-24T18:00:00.000000000&#x27;, &#x27;2025-10-30T18:00:00.000000000&#x27;,\n",
              "       &#x27;2024-08-02T18:00:00.000000000&#x27;, &#x27;2025-11-11T18:00:00.000000000&#x27;,\n",
              "       &#x27;2025-11-17T18:00:00.000000000&#x27;, &#x27;2025-11-23T18:00:00.000000000&#x27;,\n",
              "       &#x27;2024-08-03T18:00:00.000000000&#x27;, &#x27;2025-12-05T18:00:00.000000000&#x27;,\n",
              "       &#x27;2025-12-11T18:00:00.000000000&#x27;, &#x27;2025-12-17T18:00:00.000000000&#x27;,\n",
              "       &#x27;2024-08-04T18:00:00.000000000&#x27;, &#x27;2025-12-29T18:00:00.000000000&#x27;,\n",
              "       &#x27;2026-01-04T18:00:00.000000000&#x27;, &#x27;2026-01-10T18:00:00.000000000&#x27;,\n",
              "       &#x27;2024-08-05T18:00:00.000000000&#x27;, &#x27;2026-01-22T18:00:00.000000000&#x27;,\n",
              "       &#x27;2026-01-28T18:00:00.000000000&#x27;, &#x27;2026-02-03T18:00:00.000000000&#x27;,\n",
              "       &#x27;2024-08-06T18:00:00.000000000&#x27;, &#x27;2026-02-15T18:00:00.000000000&#x27;,\n",
              "       &#x27;2026-02-21T18:00:00.000000000&#x27;, &#x27;2026-02-27T18:00:00.000000000&#x27;,\n",
              "       &#x27;2024-08-07T18:00:00.000000000&#x27;, &#x27;2026-03-11T18:00:00.000000000&#x27;,\n",
              "       &#x27;2026-03-17T18:00:00.000000000&#x27;, &#x27;2026-03-23T18:00:00.000000000&#x27;,\n",
              "       &#x27;2024-08-08T18:00:00.000000000&#x27;, &#x27;2026-04-04T18:00:00.000000000&#x27;,\n",
              "       &#x27;2026-04-10T18:00:00.000000000&#x27;, &#x27;2026-04-16T18:00:00.000000000&#x27;,\n",
              "       &#x27;2024-08-09T18:00:00.000000000&#x27;, &#x27;2026-04-28T18:00:00.000000000&#x27;,\n",
              "       &#x27;2026-05-04T18:00:00.000000000&#x27;, &#x27;2026-05-10T18:00:00.000000000&#x27;,\n",
              "       &#x27;2024-08-10T18:00:00.000000000&#x27;, &#x27;2026-05-22T18:00:00.000000000&#x27;,\n",
              "       &#x27;2026-05-28T18:00:00.000000000&#x27;, &#x27;2026-06-03T18:00:00.000000000&#x27;,\n",
              "       &#x27;2024-08-11T18:00:00.000000000&#x27;, &#x27;2026-06-15T18:00:00.000000000&#x27;,\n",
              "       &#x27;2026-06-21T18:00:00.000000000&#x27;, &#x27;2026-06-27T18:00:00.000000000&#x27;,\n",
              "       &#x27;2024-08-12T18:00:00.000000000&#x27;, &#x27;2026-07-09T18:00:00.000000000&#x27;,\n",
              "       &#x27;2026-07-15T18:00:00.000000000&#x27;, &#x27;2026-07-21T18:00:00.000000000&#x27;,\n",
              "       &#x27;2024-08-13T18:00:00.000000000&#x27;, &#x27;2026-08-02T18:00:00.000000000&#x27;,\n",
              "       &#x27;2026-08-08T18:00:00.000000000&#x27;, &#x27;2026-08-14T18:00:00.000000000&#x27;,\n",
              "       &#x27;2024-08-14T18:00:00.000000000&#x27;, &#x27;2026-08-26T18:00:00.000000000&#x27;,\n",
              "       &#x27;2026-09-01T18:00:00.000000000&#x27;, &#x27;2026-09-07T18:00:00.000000000&#x27;,\n",
              "       &#x27;2024-08-15T18:00:00.000000000&#x27;, &#x27;2026-09-19T18:00:00.000000000&#x27;,\n",
              "       &#x27;2026-09-25T18:00:00.000000000&#x27;, &#x27;2026-10-01T18:00:00.000000000&#x27;,\n",
              "       &#x27;2024-08-16T18:00:00.000000000&#x27;, &#x27;2026-10-13T18:00:00.000000000&#x27;,\n",
              "       &#x27;2026-10-19T18:00:00.000000000&#x27;, &#x27;2026-10-25T18:00:00.000000000&#x27;,\n",
              "       &#x27;2024-08-17T18:00:00.000000000&#x27;, &#x27;2026-11-06T18:00:00.000000000&#x27;,\n",
              "       &#x27;2026-11-12T18:00:00.000000000&#x27;, &#x27;2026-11-18T18:00:00.000000000&#x27;,\n",
              "       &#x27;2024-08-18T18:00:00.000000000&#x27;, &#x27;2026-11-30T18:00:00.000000000&#x27;,\n",
              "       &#x27;2026-12-06T18:00:00.000000000&#x27;, &#x27;2026-12-12T18:00:00.000000000&#x27;,\n",
              "       &#x27;2024-08-19T18:00:00.000000000&#x27;, &#x27;2026-12-24T18:00:00.000000000&#x27;,\n",
              "       &#x27;2026-12-30T18:00:00.000000000&#x27;, &#x27;2027-01-05T18:00:00.000000000&#x27;,\n",
              "       &#x27;2024-08-20T18:00:00.000000000&#x27;, &#x27;2027-01-17T18:00:00.000000000&#x27;],\n",
              "      dtype=&#x27;datetime64[ns]&#x27;)</pre></div></li><li class='xr-var-item'><div class='xr-var-name'><span class='xr-has-index'>lat</span></div><div class='xr-var-dims'>(lat)</div><div class='xr-var-dtype'>float64</div><div class='xr-var-preview xr-preview'>89.62 88.62 87.62 ... -88.38 -89.38</div><input id='attrs-f17fbb62-c05f-44d5-9249-315a1a79b037' class='xr-var-attrs-in' type='checkbox' disabled><label for='attrs-f17fbb62-c05f-44d5-9249-315a1a79b037' title='Show/Hide attributes'><svg class='icon xr-icon-file-text2'><use xlink:href='#icon-file-text2'></use></svg></label><input id='data-0840e08f-8e8b-4f92-ab00-e7c48d05a67d' class='xr-var-data-in' type='checkbox'><label for='data-0840e08f-8e8b-4f92-ab00-e7c48d05a67d' title='Show/Hide data repr'><svg class='icon xr-icon-database'><use xlink:href='#icon-database'></use></svg></label><div class='xr-var-attrs'><dl class='xr-attrs'></dl></div><div class='xr-var-data'><pre>array([ 89.625,  88.625,  87.625,  86.625,  85.625,  84.625,  83.625,  82.625,\n",
              "        81.625,  80.625,  79.625,  78.625,  77.625,  76.625,  75.625,  74.625,\n",
              "        73.625,  72.625,  71.625,  70.625,  69.625,  68.625,  67.625,  66.625,\n",
              "        65.625,  64.625,  63.625,  62.625,  61.625,  60.625,  59.625,  58.625,\n",
              "        57.625,  56.625,  55.625,  54.625,  53.625,  52.625,  51.625,  50.625,\n",
              "        49.625,  48.625,  47.625,  46.625,  45.625,  44.625,  43.625,  42.625,\n",
              "        41.625,  40.625,  39.625,  38.625,  37.625,  36.625,  35.625,  34.625,\n",
              "        33.625,  32.625,  31.625,  30.625,  29.625,  28.625,  27.625,  26.625,\n",
              "        25.625,  24.625,  23.625,  22.625,  21.625,  20.625,  19.625,  18.625,\n",
              "        17.625,  16.625,  15.625,  14.625,  13.625,  12.625,  11.625,  10.625,\n",
              "         9.625,   8.625,   7.625,   6.625,   5.625,   4.625,   3.625,   2.625,\n",
              "         1.625,   0.625,  -0.375,  -1.375,  -2.375,  -3.375,  -4.375,  -5.375,\n",
              "        -6.375,  -7.375,  -8.375,  -9.375, -10.375, -11.375, -12.375, -13.375,\n",
              "       -14.375, -15.375, -16.375, -17.375, -18.375, -19.375, -20.375, -21.375,\n",
              "       -22.375, -23.375, -24.375, -25.375, -26.375, -27.375, -28.375, -29.375,\n",
              "       -30.375, -31.375, -32.375, -33.375, -34.375, -35.375, -36.375, -37.375,\n",
              "       -38.375, -39.375, -40.375, -41.375, -42.375, -43.375, -44.375, -45.375,\n",
              "       -46.375, -47.375, -48.375, -49.375, -50.375, -51.375, -52.375, -53.375,\n",
              "       -54.375, -55.375, -56.375, -57.375, -58.375, -59.375, -60.375, -61.375,\n",
              "       -62.375, -63.375, -64.375, -65.375, -66.375, -67.375, -68.375, -69.375,\n",
              "       -70.375, -71.375, -72.375, -73.375, -74.375, -75.375, -76.375, -77.375,\n",
              "       -78.375, -79.375, -80.375, -81.375, -82.375, -83.375, -84.375, -85.375,\n",
              "       -86.375, -87.375, -88.375, -89.375])</pre></div></li><li class='xr-var-item'><div class='xr-var-name'><span class='xr-has-index'>lon</span></div><div class='xr-var-dims'>(lon)</div><div class='xr-var-dtype'>float64</div><div class='xr-var-preview xr-preview'>0.375 1.375 2.375 ... 358.4 359.4</div><input id='attrs-e437fb6d-f122-424a-8159-007fe3b715c4' class='xr-var-attrs-in' type='checkbox' disabled><label for='attrs-e437fb6d-f122-424a-8159-007fe3b715c4' title='Show/Hide attributes'><svg class='icon xr-icon-file-text2'><use xlink:href='#icon-file-text2'></use></svg></label><input id='data-33b77bb1-ba78-4850-bbed-65163e3dc58e' class='xr-var-data-in' type='checkbox'><label for='data-33b77bb1-ba78-4850-bbed-65163e3dc58e' title='Show/Hide data repr'><svg class='icon xr-icon-database'><use xlink:href='#icon-database'></use></svg></label><div class='xr-var-attrs'><dl class='xr-attrs'></dl></div><div class='xr-var-data'><pre>array([  0.375,   1.375,   2.375, ..., 357.375, 358.375, 359.375])</pre></div></li></ul></div></li><li class='xr-section-item'><input id='section-4a08b544-f5ba-4b44-b7c5-6e5e5667595e' class='xr-section-summary-in' type='checkbox'  ><label for='section-4a08b544-f5ba-4b44-b7c5-6e5e5667595e' class='xr-section-summary' >Indexes: <span>(4)</span></label><div class='xr-section-inline-details'></div><div class='xr-section-details'><ul class='xr-var-list'><li class='xr-var-item'><div class='xr-index-name'><div>embed</div></div><div class='xr-index-preview'>PandasIndex</div><input type='checkbox' disabled/><label></label><input id='index-3776b19f-2e9b-430b-8795-203e9722a9bc' class='xr-index-data-in' type='checkbox'/><label for='index-3776b19f-2e9b-430b-8795-203e9722a9bc' title='Show/Hide index repr'><svg class='icon xr-icon-database'><use xlink:href='#icon-database'></use></svg></label><div class='xr-index-data'><pre>PandasIndex(Index([  0,   1,   2,   3,   4,   5,   6,   7,   8,   9,\n",
              "       ...\n",
              "       502, 503, 504, 505, 506, 507, 508, 509, 510, 511],\n",
              "      dtype=&#x27;int64&#x27;, name=&#x27;embed&#x27;, length=512))</pre></div></li><li class='xr-var-item'><div class='xr-index-name'><div>time</div></div><div class='xr-index-preview'>PandasIndex</div><input type='checkbox' disabled/><label></label><input id='index-8fdbc461-c842-4085-b8cb-1bd272060da8' class='xr-index-data-in' type='checkbox'/><label for='index-8fdbc461-c842-4085-b8cb-1bd272060da8' title='Show/Hide index repr'><svg class='icon xr-icon-database'><use xlink:href='#icon-database'></use></svg></label><div class='xr-index-data'><pre>PandasIndex(DatetimeIndex([&#x27;2024-07-13 18:00:00&#x27;, &#x27;2024-07-19 18:00:00&#x27;,\n",
              "               &#x27;2024-07-25 18:00:00&#x27;, &#x27;2024-07-31 18:00:00&#x27;,\n",
              "               &#x27;2024-07-14 18:00:00&#x27;, &#x27;2024-08-12 18:00:00&#x27;,\n",
              "               &#x27;2024-08-18 18:00:00&#x27;, &#x27;2024-08-24 18:00:00&#x27;,\n",
              "               &#x27;2024-07-15 18:00:00&#x27;, &#x27;2024-09-05 18:00:00&#x27;,\n",
              "               ...\n",
              "               &#x27;2024-08-18 18:00:00&#x27;, &#x27;2026-11-30 18:00:00&#x27;,\n",
              "               &#x27;2026-12-06 18:00:00&#x27;, &#x27;2026-12-12 18:00:00&#x27;,\n",
              "               &#x27;2024-08-19 18:00:00&#x27;, &#x27;2026-12-24 18:00:00&#x27;,\n",
              "               &#x27;2026-12-30 18:00:00&#x27;, &#x27;2027-01-05 18:00:00&#x27;,\n",
              "               &#x27;2024-08-20 18:00:00&#x27;, &#x27;2027-01-17 18:00:00&#x27;],\n",
              "              dtype=&#x27;datetime64[ns]&#x27;, name=&#x27;time&#x27;, length=154, freq=None))</pre></div></li><li class='xr-var-item'><div class='xr-index-name'><div>lat</div></div><div class='xr-index-preview'>PandasIndex</div><input type='checkbox' disabled/><label></label><input id='index-f1ee2855-5915-41e5-aeec-5197279bca32' class='xr-index-data-in' type='checkbox'/><label for='index-f1ee2855-5915-41e5-aeec-5197279bca32' title='Show/Hide index repr'><svg class='icon xr-icon-database'><use xlink:href='#icon-database'></use></svg></label><div class='xr-index-data'><pre>PandasIndex(Index([ 89.625,  88.625,  87.625,  86.625,  85.625,  84.625,  83.625,  82.625,\n",
              "        81.625,  80.625,\n",
              "       ...\n",
              "       -80.375, -81.375, -82.375, -83.375, -84.375, -85.375, -86.375, -87.375,\n",
              "       -88.375, -89.375],\n",
              "      dtype=&#x27;float64&#x27;, name=&#x27;lat&#x27;, length=180))</pre></div></li><li class='xr-var-item'><div class='xr-index-name'><div>lon</div></div><div class='xr-index-preview'>PandasIndex</div><input type='checkbox' disabled/><label></label><input id='index-2a062c67-93c8-4730-9723-9913c864071a' class='xr-index-data-in' type='checkbox'/><label for='index-2a062c67-93c8-4730-9723-9913c864071a' title='Show/Hide index repr'><svg class='icon xr-icon-database'><use xlink:href='#icon-database'></use></svg></label><div class='xr-index-data'><pre>PandasIndex(Index([  0.375,   1.375,   2.375,   3.375,   4.375,   5.375,   6.375,   7.375,\n",
              "         8.375,   9.375,\n",
              "       ...\n",
              "       350.375, 351.375, 352.375, 353.375, 354.375, 355.375, 356.375, 357.375,\n",
              "       358.375, 359.375],\n",
              "      dtype=&#x27;float64&#x27;, name=&#x27;lon&#x27;, length=360))</pre></div></li></ul></div></li><li class='xr-section-item'><input id='section-30a8510c-93b0-4069-8da8-6cc37b07269a' class='xr-section-summary-in' type='checkbox' disabled ><label for='section-30a8510c-93b0-4069-8da8-6cc37b07269a' class='xr-section-summary'  title='Expand/collapse section'>Attributes: <span>(0)</span></label><div class='xr-section-inline-details'></div><div class='xr-section-details'><dl class='xr-attrs'></dl></div></li></ul></div></div>"
            ]
          },
          "metadata": {},
          "execution_count": 8
        }
      ]
    },
    {
      "cell_type": "markdown",
      "source": [
        "To perform the logistic regression, we need to obtain the binary classifications (the mask, an array of 1s and 0s).\n",
        "\n",
        "Note that the mask is independent of time. We do not need a new mask for each latent vector, so this simplifies the analysis quite a bit.\n",
        "\n",
        "All we need to do is obtain a mask of size (180, 360).\n",
        "\n",
        "Since the mask is independent of time, we can do the regression **patchwise**. Meaning that we consider each patch independent of which latent vector it comes from.\n",
        "\n",
        "Remember though, we still have the embedded dimension. This means, when we consider a single patch, it still has 512 embedded points. These are the features of the logistic regression.\n",
        "\n",
        "Since we have 64800 (64800=180x360) patches, this means that if for example we have 2 time steps, we have 129,600 samples.\n",
        "\n",
        "But we only have our mask of size 64800. So we need to repeat the mask twice to obtain the y vector that matches our X input."
      ],
      "metadata": {
        "id": "Mceiq-HxKlKU"
      }
    },
    {
      "cell_type": "code",
      "source": [
        "# If you want to make the dataset smaller for testing\n",
        "surface_embeddings = surface_embeddings.isel(time=slice(0, 2))"
      ],
      "metadata": {
        "id": "9A1AOVXaWK3s"
      },
      "execution_count": 9,
      "outputs": []
    },
    {
      "cell_type": "code",
      "source": [
        "land_sea_mask = static_data[\"lsm\"].values.squeeze()\n",
        "land_sea_mask_patched = reduce_mask(land_sea_mask, patch_size)"
      ],
      "metadata": {
        "id": "0BiI1mTRX1lt"
      },
      "execution_count": 10,
      "outputs": []
    },
    {
      "cell_type": "code",
      "source": [
        "land_sea_mask_patched.shape"
      ],
      "metadata": {
        "id": "8JAEAeP6X1gR",
        "colab": {
          "base_uri": "https://localhost:8080/"
        },
        "outputId": "68d331bb-90af-4019-d8a0-0de66a8f3b8b"
      },
      "execution_count": 11,
      "outputs": [
        {
          "output_type": "execute_result",
          "data": {
            "text/plain": [
              "(180, 360)"
            ]
          },
          "metadata": {},
          "execution_count": 11
        }
      ]
    },
    {
      "cell_type": "code",
      "source": [
        "n_time = len(surface_embeddings.time)\n",
        "\n",
        "X = surface_embeddings.transpose(\"time\", \"lat\", \"lon\", \"embed\")\n",
        "X = X.data.reshape(-1, 512)\n",
        "\n",
        "y = land_sea_mask_patched.flatten()\n",
        "y = np.repeat(y, n_time)\n",
        "\n",
        "X.shape, y.shape"
      ],
      "metadata": {
        "id": "R3FSrTzSX1c7",
        "colab": {
          "base_uri": "https://localhost:8080/"
        },
        "outputId": "ec975f83-413e-4dee-d4c8-f346520ed060"
      },
      "execution_count": 12,
      "outputs": [
        {
          "output_type": "execute_result",
          "data": {
            "text/plain": [
              "((129600, 512), (129600,))"
            ]
          },
          "metadata": {},
          "execution_count": 12
        }
      ]
    },
    {
      "cell_type": "code",
      "source": [
        "# When doing the train/test split, we need to keep\n",
        "# track of the positions so we can trace back errors\n",
        "# to specific lat/lon locations\n",
        "import dask.array as da\n",
        "\n",
        "\n",
        "time_indices = da.repeat(da.arange(n_time, chunks=10), 64800)\n",
        "spatial_indices = da.tile(da.arange(64800, chunks=1000), n_time)"
      ],
      "metadata": {
        "id": "Dql4-Ux2RqZ2"
      },
      "execution_count": 14,
      "outputs": []
    },
    {
      "cell_type": "code",
      "source": [
        "from dask_ml.model_selection import train_test_split\n",
        "\n",
        "\n",
        "(X_train, X_test,\n",
        " y_train, y_test,\n",
        " time_idx_train, time_idx_test,\n",
        " spatial_idx_train, spatial_idx_test) = train_test_split(\n",
        "    X,\n",
        "    y,\n",
        "    time_indices,\n",
        "    spatial_indices,\n",
        "    test_size=0.2,\n",
        "    random_state=42,\n",
        "    shuffle=True\n",
        ")"
      ],
      "metadata": {
        "id": "Q4Vy9rLzUyDC"
      },
      "execution_count": 17,
      "outputs": []
    },
    {
      "cell_type": "code",
      "source": [
        "# scaler = StandardScaler()\n",
        "# X_train_scaled = scaler.fit_transform(X_train)\n",
        "# X_test_scaled = scaler.transform(X_test)\n",
        "\n",
        "\n",
        "\n",
        "# fast in-memory sample\n",
        "print(\"Creating a small sample and loading it into memory...\")\n",
        "\n",
        "# X_train and X_test are Dask arrays, so they need .compute()\n",
        "X_train_sample = X_train[:10000, :].compute()\n",
        "X_test_sample = X_test[:2500, :].compute()\n",
        "\n",
        "# y_train and y_test are already NumPy arrays, so they do NOT need .compute()\n",
        "y_train_sample = y_train[:10000]\n",
        "y_test_sample = y_test[:2500]\n",
        "\n",
        "print(\"Sample created successfully.\")"
      ],
      "metadata": {
        "colab": {
          "base_uri": "https://localhost:8080/"
        },
        "id": "UzREy0GEQivd",
        "outputId": "e552ec60-b34b-4760-b338-6c1f7a5853a0"
      },
      "execution_count": 18,
      "outputs": [
        {
          "output_type": "stream",
          "name": "stdout",
          "text": [
            "Creating a small sample and loading it into memory...\n",
            "Sample created successfully.\n"
          ]
        }
      ]
    },
    {
      "cell_type": "code",
      "source": [
        "# model = LogisticRegression(\n",
        "#     penalty='l2',\n",
        "#     C=1.0,\n",
        "#     solver='lbfgs',\n",
        "#     max_iter=100,\n",
        "#     random_state=42\n",
        "# )\n",
        "\n",
        "# model.fit(X_train_scaled, y_train)\n",
        "\n",
        "\n",
        "\n",
        "\n",
        "# analysis with the fast scikit-learn library\n",
        "from sklearn.preprocessing import StandardScaler\n",
        "from sklearn.linear_model import LogisticRegression\n",
        "\n",
        "# Scale the data (will be very fast)\n",
        "scaler_sklearn = StandardScaler()\n",
        "X_train_scaled_sample = scaler_sklearn.fit_transform(X_train_sample)\n",
        "X_test_scaled_sample = scaler_sklearn.transform(X_test_sample)\n",
        "\n",
        "# Train the model (will be very fast)\n",
        "model_sklearn = LogisticRegression(solver='lbfgs', max_iter=1000, random_state=42) # Increased max_iter\n",
        "model_sklearn.fit(X_train_scaled_sample, y_train_sample)\n",
        "\n",
        "# Get and print the accuracy\n",
        "accuracy = model_sklearn.score(X_test_scaled_sample, y_test_sample)\n",
        "print(f\"Test accuracy on small sample: {accuracy:.4f}\")"
      ],
      "metadata": {
        "colab": {
          "base_uri": "https://localhost:8080/"
        },
        "id": "P-lBuM5lQidO",
        "outputId": "02f64c6d-cdfa-4adf-c16a-f656d70577a4"
      },
      "execution_count": 20,
      "outputs": [
        {
          "output_type": "stream",
          "name": "stdout",
          "text": [
            "Test accuracy on small sample: 0.7192\n"
          ]
        }
      ]
    },
    {
      "cell_type": "code",
      "source": [
        "# Import the LogisticRegression model\n",
        "from sklearn.linear_model import LogisticRegression\n",
        "\n",
        "# Train the model directly on the ORIGINAL, UNSCALED sample data\n",
        "model_unscaled = LogisticRegression(solver='lbfgs', max_iter=1000, random_state=42)\n",
        "model_unscaled.fit(X_train_sample, y_train_sample)\n",
        "\n",
        "# Get and print the accuracy on the UNSCALED test data\n",
        "accuracy = model_unscaled.score(X_test_sample, y_test_sample)\n",
        "print(f\"Test accuracy on UNSCALED small sample: {accuracy:.4f}\")"
      ],
      "metadata": {
        "colab": {
          "base_uri": "https://localhost:8080/"
        },
        "id": "2D6rMe0xUC-d",
        "outputId": "3f60f309-1cd2-4d9a-c6eb-86835dfd3ea9"
      },
      "execution_count": 21,
      "outputs": [
        {
          "output_type": "stream",
          "name": "stdout",
          "text": [
            "Test accuracy on UNSCALED small sample: 0.7172\n"
          ]
        }
      ]
    },
    {
      "cell_type": "markdown",
      "source": [
        "## Land-Sea Concept Regression"
      ],
      "metadata": {
        "id": "JvYNTO_kqj9o"
      }
    },
    {
      "cell_type": "code",
      "source": [
        "import torch\n",
        "import torch.nn as nn"
      ],
      "metadata": {
        "id": "aQ3LBaqEqt5l"
      },
      "execution_count": 22,
      "outputs": []
    },
    {
      "cell_type": "code",
      "source": [
        "# Convert the NumPy arrays to PyTorch tensors\n",
        "x_train_tensor = torch.tensor(X_train_sample, dtype=torch.float32)\n",
        "y_train_tensor = torch.tensor(y_train_sample, dtype=torch.float32)\n",
        "x_test_tensor = torch.tensor(X_test_sample, dtype=torch.float32)\n",
        "y_test_tensor = torch.tensor(y_test_sample, dtype=torch.float32)\n",
        "\n",
        "#reshape the target tensors to be compatible with the loss function\n",
        "y_train_tensor = y_train_tensor.view(y_train_tensor.shape[0], 1)\n",
        "y_test_tensor = y_test_tensor.view(y_test_tensor.shape[0], 1)"
      ],
      "metadata": {
        "id": "Eo3sxqTbwgAQ"
      },
      "execution_count": 23,
      "outputs": []
    },
    {
      "cell_type": "code",
      "source": [
        "# logistic regression model\n",
        "class LogisticRegressionModel(nn.Module):\n",
        "    def __init__(self, input_dim):\n",
        "        super(LogisticRegressionModel, self).__init__()\n",
        "        self.linear = nn.Linear(input_dim, 1)\n",
        "\n",
        "    def forward(self, x):\n",
        "        return torch.sigmoid(self.linear(x))\n",
        "\n",
        "#an instance of the model\n",
        "input_dim = x_train_tensor.shape[1]\n",
        "model = LogisticRegressionModel(input_dim)\n"
      ],
      "metadata": {
        "id": "vD1boUzYxUgN"
      },
      "execution_count": 24,
      "outputs": []
    },
    {
      "cell_type": "code",
      "source": [
        "# loss function and optimizer\n",
        "criterion = nn.BCELoss() # Binary cross-Entropy loss for binary classification\n",
        "optimizer = torch.optim.SGD(model.parameters(), lr=0.01) # Stochastic Gradient Descent\n",
        "\n",
        "# train the model\n",
        "epochs = 100\n",
        "for epoch in range(epochs):\n",
        "    # Forward pass\n",
        "    outputs = model(x_train_tensor)\n",
        "    loss = criterion(outputs, y_train_tensor)\n",
        "\n",
        "    #Backward and optimize\n",
        "    optimizer.zero_grad()\n",
        "    loss.backward()\n",
        "    optimizer.step()\n",
        "\n",
        "    if (epoch+1) % 10 == 0:\n",
        "        print(f'Epoch [{epoch+1}/{epochs}], Loss: {loss.item():.4f}')"
      ],
      "metadata": {
        "colab": {
          "base_uri": "https://localhost:8080/"
        },
        "id": "x--2aLrKyFEa",
        "outputId": "8e1e0ea3-d6df-443d-b738-1485d13180fb"
      },
      "execution_count": 25,
      "outputs": [
        {
          "output_type": "stream",
          "name": "stdout",
          "text": [
            "Epoch [10/100], Loss: 0.6227\n",
            "Epoch [20/100], Loss: 0.6096\n",
            "Epoch [30/100], Loss: 0.6041\n",
            "Epoch [40/100], Loss: 0.6007\n",
            "Epoch [50/100], Loss: 0.5982\n",
            "Epoch [60/100], Loss: 0.5962\n",
            "Epoch [70/100], Loss: 0.5946\n",
            "Epoch [80/100], Loss: 0.5931\n",
            "Epoch [90/100], Loss: 0.5918\n",
            "Epoch [100/100], Loss: 0.5907\n"
          ]
        }
      ]
    },
    {
      "cell_type": "code",
      "source": [
        "#choose single data point from the test set\n",
        "sample_input = x_test_tensor[0].clone().detach().requires_grad_(True)\n",
        "\n",
        "#get model's predection for this input\n",
        "prediction = model(sample_input)\n",
        "\n",
        "#calculate the gradients\n",
        "prediction.backward()\n",
        "\n",
        "# gradients are now stored in the .grad attribute of the input tensor\n",
        "gradients = sample_input.grad\n",
        "\n",
        "print(\"Gradients (Sensitivity Scores):\")\n",
        "print(gradients)\n",
        "print(\"\\nShape of gradients:\", gradients.shape)"
      ],
      "metadata": {
        "colab": {
          "base_uri": "https://localhost:8080/"
        },
        "id": "UzWwd39dyE3c",
        "outputId": "3e0f69a0-20b0-4c9b-8f60-bff98817a501"
      },
      "execution_count": 26,
      "outputs": [
        {
          "output_type": "stream",
          "name": "stdout",
          "text": [
            "Gradients (Sensitivity Scores):\n",
            "tensor([ 6.1301e-03, -7.3490e-03,  1.0550e-03, -1.0401e-02, -8.8984e-03,\n",
            "         3.7519e-03, -6.0668e-03,  9.2720e-03, -1.1178e-02,  6.0549e-03,\n",
            "         3.3909e-03,  6.9626e-03, -3.1859e-03,  4.3549e-03,  5.5096e-03,\n",
            "        -2.3188e-03, -5.1141e-03,  4.3079e-03,  1.9361e-03, -4.5433e-03,\n",
            "        -1.7261e-03, -1.8128e-03, -4.7075e-03,  1.5284e-03, -6.9555e-03,\n",
            "        -6.6014e-03, -7.5000e-03,  5.4094e-03,  9.6135e-04,  2.9414e-03,\n",
            "         5.1503e-03, -2.3242e-03, -7.6420e-03,  4.0141e-03,  3.6806e-03,\n",
            "        -4.6758e-03, -4.2349e-03, -7.8814e-03, -2.2519e-04, -4.6934e-03,\n",
            "         7.0098e-03, -1.5933e-03, -3.5502e-03, -2.3317e-03, -3.9200e-03,\n",
            "         8.5077e-03,  6.3166e-03,  5.1476e-03,  6.2746e-03, -1.3396e-03,\n",
            "         3.0353e-03, -3.2129e-03, -3.0718e-03,  9.3701e-03, -4.9182e-03,\n",
            "         4.8330e-03,  2.9936e-03, -5.1151e-04,  8.9814e-03, -1.0352e-02,\n",
            "        -2.3680e-03,  6.9057e-04, -4.4514e-03,  5.1952e-03,  5.4294e-03,\n",
            "         6.3511e-03,  1.0052e-03,  7.3561e-03,  1.7175e-03, -8.4311e-03,\n",
            "         1.4777e-03,  1.9967e-03, -3.0904e-03, -5.5551e-03, -2.4563e-03,\n",
            "         3.5253e-03, -4.9951e-03,  2.9891e-03, -5.8235e-03,  9.4738e-03,\n",
            "         2.5480e-03,  4.2401e-03, -8.0791e-04,  5.1574e-03, -4.4282e-03,\n",
            "        -7.5736e-03, -8.3426e-03, -8.3468e-03, -9.8408e-04,  6.7537e-03,\n",
            "        -9.2230e-04,  5.8590e-03, -2.4714e-03,  6.4113e-03,  1.1760e-02,\n",
            "        -5.4698e-03, -3.1953e-03,  6.6577e-03,  1.2570e-03,  6.4641e-05,\n",
            "         9.7197e-03,  4.1372e-03,  1.1012e-02, -4.8905e-03,  1.5403e-03,\n",
            "        -1.1861e-02,  3.9660e-03, -9.6495e-03, -4.1683e-03, -2.9184e-03,\n",
            "        -1.1450e-03, -7.4007e-03,  3.5871e-03,  4.9281e-03,  7.5524e-03,\n",
            "         3.2108e-03, -5.5640e-03, -2.2579e-03, -9.3351e-03, -9.1041e-03,\n",
            "        -5.7177e-03,  4.7912e-03, -3.6259e-03, -5.6575e-03,  3.0229e-03,\n",
            "        -7.5392e-03, -3.2756e-03,  2.2413e-03,  5.4240e-03, -6.6935e-03,\n",
            "        -8.3150e-03,  3.1493e-05,  1.9871e-03,  2.4743e-03,  3.0019e-03,\n",
            "        -7.7745e-03, -6.7477e-03, -2.8143e-03, -5.4895e-03, -9.8142e-03,\n",
            "         7.2133e-03, -1.9101e-03, -2.3346e-04, -8.4801e-03, -3.4019e-03,\n",
            "         6.1744e-03, -1.8743e-03, -3.8084e-03, -7.1824e-03, -3.2936e-03,\n",
            "         8.8243e-03, -5.5438e-04, -7.6412e-03,  2.3130e-03, -1.5546e-03,\n",
            "         4.0117e-03, -4.4036e-03, -4.2681e-03, -2.0639e-03, -7.7269e-04,\n",
            "         4.3394e-03, -5.6390e-04,  8.5684e-04, -3.5928e-03,  4.9115e-03,\n",
            "         1.9845e-03,  5.7912e-03, -5.0408e-03, -2.2348e-03,  7.4376e-04,\n",
            "        -5.1814e-03,  4.8018e-03,  2.0271e-03,  7.1416e-04,  8.9952e-03,\n",
            "         9.0550e-03,  1.0083e-03,  7.9311e-03, -1.0496e-03, -7.5048e-03,\n",
            "        -8.7538e-03, -9.5625e-03, -2.9592e-03, -2.0287e-03, -5.7396e-03,\n",
            "        -3.1799e-03, -4.6536e-03, -4.4388e-03, -2.9613e-03, -4.9957e-03,\n",
            "        -6.2112e-03, -7.3209e-03,  2.3455e-03,  5.3141e-04,  5.6696e-03,\n",
            "        -6.4618e-03, -6.8347e-03, -5.3645e-03,  8.3201e-03, -1.1320e-03,\n",
            "         4.0696e-03, -8.6119e-03, -6.0020e-03,  5.3158e-03, -1.6821e-03,\n",
            "         3.3141e-03, -9.3893e-03,  3.4404e-03, -6.8318e-03, -3.7687e-03,\n",
            "        -2.8418e-03, -1.0384e-03,  3.6970e-03, -1.0658e-03,  4.4619e-03,\n",
            "        -3.3083e-03,  6.8755e-03,  5.3261e-03,  4.0608e-03, -1.1289e-04,\n",
            "         5.9629e-03, -4.1806e-03, -6.0495e-03,  8.0157e-03,  3.3581e-03,\n",
            "        -1.0766e-03,  1.1759e-03, -5.6497e-03,  1.2443e-03,  7.9449e-03,\n",
            "        -4.8504e-04, -7.7324e-03,  4.6211e-03,  7.3536e-03,  2.4357e-03,\n",
            "         6.9030e-04, -1.0139e-02, -4.3098e-03,  5.9783e-03, -7.4197e-03,\n",
            "         9.6954e-03,  1.1799e-04, -1.1325e-03,  1.6872e-04,  2.7497e-03,\n",
            "        -8.2845e-03,  5.0552e-03, -1.4543e-03, -1.2528e-03, -3.8316e-03,\n",
            "        -4.3726e-03, -5.2585e-03, -3.6136e-03,  2.1557e-03, -5.3151e-03,\n",
            "         4.9480e-03,  7.5250e-04, -6.0379e-03,  7.0710e-03, -1.2886e-03,\n",
            "         1.4382e-03,  1.6790e-03,  6.7340e-03,  1.7331e-03, -2.2044e-03,\n",
            "         3.5538e-03, -7.3159e-03, -6.1526e-03, -3.3034e-03, -7.1247e-03,\n",
            "        -7.3422e-04, -3.7151e-03,  8.3900e-04, -5.5304e-03,  3.8026e-03,\n",
            "        -9.6358e-04,  7.0067e-03,  9.0947e-05, -1.4158e-03, -2.4082e-03,\n",
            "         4.8849e-03, -4.8776e-03, -6.4958e-03, -9.1319e-03, -1.0135e-02,\n",
            "        -8.3327e-03,  7.1004e-03, -7.1982e-04, -1.2599e-03, -1.5870e-02,\n",
            "         1.3668e-03,  8.1038e-04, -2.9324e-04,  6.4432e-04, -2.1117e-03,\n",
            "        -7.9946e-03, -5.1737e-03, -3.3393e-03,  5.8484e-04,  5.0664e-03,\n",
            "        -6.7565e-03, -2.4758e-04, -3.5609e-03, -7.7651e-03,  3.7238e-03,\n",
            "         2.1064e-04,  5.4979e-03,  4.6630e-04,  4.5343e-03,  2.1091e-03,\n",
            "        -5.4760e-03,  2.4992e-03, -8.8362e-03, -1.7293e-03, -3.3339e-03,\n",
            "         1.3100e-03,  5.9261e-03,  4.4778e-03, -1.6552e-03,  4.3029e-03,\n",
            "        -6.4285e-06, -5.8038e-03,  7.4852e-03,  3.8497e-03,  4.4198e-03,\n",
            "        -6.8048e-03,  5.8130e-03,  3.7778e-03, -8.3500e-03,  5.5411e-03,\n",
            "        -6.0910e-03, -4.7041e-03, -2.8651e-03, -5.8180e-03,  4.8753e-03,\n",
            "         2.8430e-03,  6.0293e-04, -6.8539e-03,  8.7615e-03, -5.6411e-03,\n",
            "        -4.6893e-03,  6.8709e-03, -1.3469e-03, -1.9254e-03,  3.0836e-03,\n",
            "         3.8549e-03, -3.4782e-03, -4.2409e-03, -4.4524e-03,  1.1479e-03,\n",
            "         4.5045e-03, -5.6915e-03,  4.4284e-03, -5.3543e-03,  3.1589e-03,\n",
            "         1.2821e-03,  8.4443e-03,  7.0213e-03, -9.2761e-03,  3.0247e-03,\n",
            "         6.4489e-03,  3.6379e-03, -4.9706e-04,  4.2503e-03,  8.6210e-03,\n",
            "         7.0103e-03,  5.3360e-03,  6.6023e-03,  2.6026e-03, -9.4296e-03,\n",
            "        -3.7815e-05,  6.3545e-03, -7.4331e-03,  2.6610e-03,  4.4534e-03,\n",
            "        -5.2510e-03,  6.6912e-03,  1.5010e-03, -8.3476e-03,  1.7852e-03,\n",
            "         3.3791e-03, -3.4562e-04, -7.3129e-03,  7.7090e-03,  5.9925e-03,\n",
            "         3.7955e-03,  7.9488e-04,  6.0695e-03,  5.1405e-03, -8.0899e-04,\n",
            "         6.0539e-03, -2.4196e-03, -2.8958e-03, -3.8583e-03, -3.2320e-03,\n",
            "         2.2825e-03, -7.9254e-03, -9.5327e-03,  8.3705e-03,  5.9234e-03,\n",
            "         7.7081e-03,  6.9523e-03, -9.6890e-05, -1.1916e-03,  1.7123e-03,\n",
            "         7.6197e-03, -4.0710e-03, -6.5182e-03, -1.9377e-03,  2.9245e-03,\n",
            "        -1.0455e-02, -3.9696e-03,  2.5601e-03, -3.6766e-03, -2.1963e-03,\n",
            "         4.0860e-03, -4.4445e-03, -4.7087e-03, -6.2407e-03, -2.2543e-03,\n",
            "         1.0132e-03,  5.5768e-03, -3.8342e-03,  5.2920e-04, -8.6420e-03,\n",
            "        -8.8162e-03,  9.3625e-03,  7.1258e-03, -6.7648e-03, -6.5330e-03,\n",
            "        -6.0626e-03,  1.0010e-02, -5.3499e-03,  5.6670e-03, -7.1865e-04,\n",
            "        -9.6457e-03, -7.6455e-03, -1.0707e-02,  1.0800e-03, -4.1448e-03,\n",
            "        -3.9998e-03,  2.1258e-03,  3.8999e-03, -4.6643e-03, -7.0262e-03,\n",
            "         3.8003e-04,  5.2360e-03,  2.0679e-03,  1.0823e-02, -4.5230e-03,\n",
            "         9.4537e-03, -8.2572e-03,  8.9876e-03, -3.2791e-03,  6.8606e-03,\n",
            "         8.6791e-03, -7.0423e-03, -9.4645e-03,  6.8391e-04, -7.7272e-03,\n",
            "        -9.0791e-03,  3.0637e-03, -6.6537e-03, -3.8549e-03, -2.4877e-03,\n",
            "         6.0203e-04,  3.0757e-03,  3.7074e-03,  1.1714e-02,  2.5802e-03,\n",
            "        -8.5148e-03, -8.0545e-03,  3.1943e-03, -9.2144e-03, -3.7507e-05,\n",
            "        -7.1595e-03, -8.6893e-03, -1.9357e-03,  8.8025e-03, -8.7835e-03,\n",
            "        -4.5019e-04, -3.6743e-04,  2.3766e-03,  4.4221e-03, -4.4901e-03,\n",
            "        -9.8525e-04, -7.0245e-03,  8.7790e-03,  4.4335e-04,  1.6698e-03,\n",
            "         2.7598e-04,  5.2176e-03,  1.2379e-02, -4.3918e-04, -1.6988e-03,\n",
            "         1.6434e-03,  6.7414e-03,  1.2719e-03,  3.0007e-03,  8.7947e-03,\n",
            "         7.4033e-03,  1.6869e-03, -9.8732e-03, -4.4760e-03,  2.8388e-03,\n",
            "        -3.2640e-03,  4.9779e-03,  1.4005e-03, -6.7356e-04,  8.3647e-03,\n",
            "         8.3755e-03,  4.4484e-04])\n",
            "\n",
            "Shape of gradients: torch.Size([512])\n"
          ]
        }
      ]
    },
    {
      "cell_type": "code",
      "source": [
        "import matplotlib.pyplot as plt\n",
        "\n",
        "#create bar plot of the absolute gradient values\n",
        "plt.figure(figsize =(15, 6))\n",
        "plt.bar(range(len(gradients)), torch.abs(gradients).numpy())\n",
        "plt.xlabel(\"Latent Feature Index\")\n",
        "plt.ylabel(\"Absolute Gradient (Importance)\")\n",
        "plt.title(\"Feature Importance for a Single Land-Sea Prediction\")\n",
        "plt.show()"
      ],
      "metadata": {
        "colab": {
          "base_uri": "https://localhost:8080/",
          "height": 584
        },
        "id": "oPdBjTDfyEhl",
        "outputId": "1713868c-7941-4968-c7a7-3b13a4fcc974"
      },
      "execution_count": 27,
      "outputs": [
        {
          "output_type": "display_data",
          "data": {
            "text/plain": [
              "<Figure size 1500x600 with 1 Axes>"
            ],
            "image/png": "[encoded data removed]"
          },
          "metadata": {}
        }
      ]
    },
    {
      "cell_type": "markdown",
      "source": [
        "## Atmospheric Instability Analysis"
      ],
      "metadata": {
        "id": "1j1enguu6JuO"
      }
    },
    {
      "cell_type": "code",
      "source": [
        "import dask.array as da\n",
        "from dask_ml.linear_model import LogisticRegression\n",
        "from dask_ml.preprocessing import StandardScaler\n",
        "from dask_ml.model_selection import train_test_split"
      ],
      "metadata": {
        "id": "jRZAOeJO1aiK"
      },
      "execution_count": null,
      "outputs": []
    },
    {
      "cell_type": "code",
      "source": [
        "from google.colab import auth\n",
        "auth.authenticate_user()"
      ],
      "metadata": {
        "id": "PD9OZQktTeV7"
      },
      "execution_count": null,
      "outputs": []
    },
    {
      "cell_type": "code",
      "source": [
        "atmos_insta_masks = xr.open_zarr(\"gs://aurora-encoder-storage/atmos_instability_masks.zarr\")\n",
        "atmos_insta_masks = atmos_insta_masks.isel(valid_time=slice(0, 2))\n",
        "patched_atmos_insta_masks = reduce_mask_lazy(atmos_insta_masks, patch_size=patch_size)"
      ],
      "metadata": {
        "id": "wN4qSz6Pfo6I"
      },
      "execution_count": null,
      "outputs": []
    },
    {
      "cell_type": "code",
      "source": [
        "k_gt_20_mask = patched_atmos_insta_masks[\"k_gt_20\"].data.reshape(-1)\n",
        "k_gt_35_mask = patched_atmos_insta_masks[\"k_gt_35\"].data.reshape(-1)"
      ],
      "metadata": {
        "id": "653WUe4H24yU"
      },
      "execution_count": null,
      "outputs": []
    },
    {
      "cell_type": "code",
      "source": [
        "atmos_embeddings = atmos_embeddings.isel(time=slice(0, 2))\n",
        "\n",
        "level0_atmos = get_optimal_chunks_ds(atmos_embeddings.sel(level=0))\n",
        "level1_atmos = get_optimal_chunks_ds(atmos_embeddings.sel(level=1))\n",
        "level2_atmos = get_optimal_chunks_ds(atmos_embeddings.sel(level=2))\n",
        "\n",
        "X0 = level0_atmos.transpose(\"time\", \"lat\", \"lon\", \"embed\")\n",
        "X0 = X0.data.reshape(-1, 512)\n",
        "X1 = level1_atmos.transpose(\"time\", \"lat\", \"lon\", \"embed\")\n",
        "X1 = X1.data.reshape(-1, 512)\n",
        "X2 = level2_atmos.transpose(\"time\", \"lat\", \"lon\", \"embed\")\n",
        "X2 = X2.data.reshape(-1, 512)\n"
      ],
      "metadata": {
        "id": "oYx0K0ggfuFW"
      },
      "execution_count": null,
      "outputs": []
    },
    {
      "cell_type": "code",
      "source": [
        "n = atmos_embeddings[\"time\"].size\n",
        "n_lat_lon = 180 * 360\n",
        "\n",
        "# When doing the train/test split, we need to keep\n",
        "# track of the positions so we can trace back errors\n",
        "# to specific lat/lon locations\n",
        "indices = da.arange(n_lat_lon * n, chunks=X0.chunks[0])"
      ],
      "metadata": {
        "id": "f4yFS5Om1Q6T"
      },
      "execution_count": null,
      "outputs": []
    },
    {
      "cell_type": "code",
      "source": [
        "X = X0.rechunk(129600, -1)\n",
        "y = k_gt_20_mask.rechunk(129600, -1)\n",
        "\n",
        "train_split = 0.8\n",
        "n = X.shape[0]\n",
        "n_train = int(n * train_split)\n",
        "n_test = n - n_train\n",
        "\n",
        "X_train = X[:n_train]\n",
        "X_test = X[n_train:]\n",
        "\n",
        "y_train = y[:n_train]\n",
        "y_test = y[n_train:]"
      ],
      "metadata": {
        "id": "Ju6hl73OvjU_"
      },
      "execution_count": null,
      "outputs": []
    },
    {
      "cell_type": "code",
      "source": [
        "# X_train, X_test, y_train, y_test = train_test_split(\n",
        "#     X,\n",
        "#     y,\n",
        "#     test_size=0.2,\n",
        "#     random_state=42,\n",
        "# )"
      ],
      "metadata": {
        "id": "gQRaCWxF3X1G"
      },
      "execution_count": null,
      "outputs": []
    },
    {
      "cell_type": "code",
      "source": [
        "model = LogisticRegression(\n",
        "    penalty='l2',\n",
        "    C=1.0,\n",
        "    solver='lbfgs',\n",
        "    max_iter=100,\n",
        "    random_state=42\n",
        ")\n",
        "model.fit(X_train, y_train)"
      ],
      "metadata": {
        "id": "QVtgmRL569LC"
      },
      "execution_count": null,
      "outputs": []
    },
    {
      "cell_type": "code",
      "source": [
        "y_pred = model.predict(X_test)"
      ],
      "metadata": {
        "id": "9ct9GcJq69IX"
      },
      "execution_count": null,
      "outputs": []
    },
    {
      "cell_type": "code",
      "source": [
        "X_train"
      ],
      "metadata": {
        "id": "icuVXbyx69GW"
      },
      "execution_count": null,
      "outputs": []
    },
    {
      "cell_type": "code",
      "source": [],
      "metadata": {
        "id": "9sK6VW3c69EV"
      },
      "execution_count": null,
      "outputs": []
    },
    {
      "cell_type": "code",
      "source": [],
      "metadata": {
        "id": "kFkRi4hS1Q0b"
      },
      "execution_count": null,
      "outputs": []
    },
    {
      "cell_type": "code",
      "source": [
        "X_train.shape, y_train.shape"
      ],
      "metadata": {
        "id": "qCQAYEDivZ4j"
      },
      "execution_count": null,
      "outputs": []
    },
    {
      "cell_type": "code",
      "source": [
        "model.fit(X_train, y_train)\n",
        "y_pred = model.predict(X_test)"
      ],
      "metadata": {
        "id": "pal4veYQvWXY"
      },
      "execution_count": null,
      "outputs": []
    },
    {
      "cell_type": "code",
      "source": [
        "accuracy = da.mean(y_pred == y_test).compute()\n",
        "\n",
        "print(f\"Test accuracy: {accuracy:.4f}\")"
      ],
      "metadata": {
        "id": "GAKF1MZc7ujh"
      },
      "execution_count": null,
      "outputs": []
    },
    {
      "cell_type": "code",
      "source": [
        "is_misclassified = (y_pred != y_test)"
      ],
      "metadata": {
        "id": "Tdp5WnII1Qx2"
      },
      "execution_count": null,
      "outputs": []
    },
    {
      "cell_type": "code",
      "source": [
        "x = X_train.compute()"
      ],
      "metadata": {
        "id": "gr2Y4kl01Qve"
      },
      "execution_count": null,
      "outputs": []
    },
    {
      "cell_type": "code",
      "source": [
        "x"
      ],
      "metadata": {
        "id": "2ms64ubY8Y9R"
      },
      "execution_count": null,
      "outputs": []
    },
    {
      "cell_type": "code",
      "source": [
        "X_train"
      ],
      "metadata": {
        "id": "OKGrvwBe8Y5r"
      },
      "execution_count": null,
      "outputs": []
    },
    {
      "cell_type": "code",
      "source": [],
      "metadata": {
        "id": "UL8su_s_8Y31"
      },
      "execution_count": null,
      "outputs": []
    },
    {
      "cell_type": "code",
      "source": [],
      "metadata": {
        "id": "Vku7aIN58Y2E"
      },
      "execution_count": null,
      "outputs": []
    }
  ]
}